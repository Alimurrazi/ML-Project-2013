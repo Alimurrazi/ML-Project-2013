{
 "cells": [
  {
   "cell_type": "code",
   "execution_count": 189,
   "metadata": {},
   "outputs": [],
   "source": [
    "# Script written by Johanna de Vos, 29/11/2017\n",
    "# Based on a Python template provided by the course instructors of Text and Multimedia Mining\n",
    "# Radboud University, Nijmegen\n",
    "\n",
    "from nltk.corpus import stopwords\n",
    "from nltk.tokenize import wordpunct_tokenize, sent_tokenize\n",
    "from nltk import pos_tag\n",
    "from nltk.data import load\n",
    "import sklearn.datasets\n",
    "import sklearn.metrics\n",
    "import sklearn.model_selection\n",
    "from sklearn.svm import SVC\n",
    "import pandas as pd\n",
    "import numpy as np\n",
    "import matplotlib.pyplot as plt"
   ]
  },
  {
   "cell_type": "code",
   "execution_count": 190,
   "metadata": {
    "collapsed": true
   },
   "outputs": [],
   "source": [
    "articles=[]"
   ]
  },
  {
   "cell_type": "code",
   "execution_count": 191,
   "metadata": {},
   "outputs": [
    {
     "name": "stdout",
     "output_type": "stream",
     "text": [
      "All Data/aniket/aniket (1).txt\n",
      "All Data/aniket/aniket (2).txt\n",
      "All Data/aniket/aniket (3).txt\n",
      "All Data/aniket/aniket (4).txt\n",
      "All Data/aniket/aniket (5).txt\n",
      "All Data/aniket/aniket (6).txt\n",
      "All Data/aniket/aniket (7).txt\n",
      "All Data/aniket/aniket (8).txt\n",
      "All Data/aniket/aniket (9).txt\n",
      "All Data/aniket/aniket (10).txt\n",
      "All Data/anwar sadat shimul/anwar sadat shimul (1).txt\n",
      "All Data/anwar sadat shimul/anwar sadat shimul (2).txt\n",
      "All Data/anwar sadat shimul/anwar sadat shimul (3).txt\n",
      "All Data/anwar sadat shimul/anwar sadat shimul (4).txt\n",
      "All Data/anwar sadat shimul/anwar sadat shimul (5).txt\n",
      "All Data/anwar sadat shimul/anwar sadat shimul (6).txt\n",
      "All Data/anwar sadat shimul/anwar sadat shimul (7).txt\n",
      "All Data/anwar sadat shimul/anwar sadat shimul (8).txt\n",
      "All Data/anwar sadat shimul/anwar sadat shimul (9).txt\n",
      "All Data/anwar sadat shimul/anwar sadat shimul (10).txt\n",
      "All Data/Biplop Rahman/Biplop Rahman (1).txt\n",
      "All Data/Biplop Rahman/Biplop Rahman (2).txt\n",
      "All Data/Biplop Rahman/Biplop Rahman (3).txt\n",
      "All Data/Biplop Rahman/Biplop Rahman (4).txt\n",
      "All Data/Biplop Rahman/Biplop Rahman (5).txt\n",
      "All Data/Biplop Rahman/Biplop Rahman (6).txt\n",
      "All Data/Biplop Rahman/Biplop Rahman (7).txt\n",
      "All Data/Biplop Rahman/Biplop Rahman (8).txt\n",
      "All Data/Biplop Rahman/Biplop Rahman (9).txt\n",
      "All Data/Biplop Rahman/Biplop Rahman (10).txt\n",
      "All Data/bolai/bolai (1).txt\n",
      "All Data/bolai/bolai (2).txt\n",
      "All Data/bolai/bolai (3).txt\n",
      "All Data/bolai/bolai (4).txt\n",
      "All Data/bolai/bolai (5).txt\n",
      "All Data/bolai/bolai (6).txt\n",
      "All Data/bolai/bolai (7).txt\n",
      "All Data/bolai/bolai (8).txt\n",
      "All Data/bolai/bolai (9).txt\n",
      "All Data/bolai/bolai (10).txt\n",
      "All Data/confusius/confusius (1).txt\n",
      "All Data/confusius/confusius (2).txt\n",
      "All Data/confusius/confusius (3).txt\n",
      "All Data/confusius/confusius (4).txt\n",
      "All Data/confusius/confusius (5).txt\n",
      "All Data/confusius/confusius (6).txt\n",
      "All Data/confusius/confusius (7).txt\n",
      "All Data/confusius/confusius (8).txt\n",
      "All Data/confusius/confusius (9).txt\n",
      "All Data/confusius/confusius (10).txt\n",
      "All Data/Dushor ghoduli/Dushor ghoduli (1).txt\n",
      "All Data/Dushor ghoduli/Dushor ghoduli (2).txt\n",
      "All Data/Dushor ghoduli/Dushor ghoduli (3).txt\n",
      "All Data/Dushor ghoduli/Dushor ghoduli (4).txt\n",
      "All Data/Dushor ghoduli/Dushor ghoduli (5).txt\n",
      "All Data/Dushor ghoduli/Dushor ghoduli (6).txt\n",
      "All Data/Dushor ghoduli/Dushor ghoduli (7).txt\n",
      "All Data/Dushor ghoduli/Dushor ghoduli (8).txt\n",
      "All Data/Dushor ghoduli/Dushor ghoduli (9).txt\n",
      "All Data/Dushor ghoduli/Dushor ghoduli (10).txt\n",
      "All Data/Emon Jubayer/Emon Jubayer (1).txt\n",
      "All Data/Emon Jubayer/Emon Jubayer (2).txt\n",
      "All Data/Emon Jubayer/Emon Jubayer (3).txt\n",
      "All Data/Emon Jubayer/Emon Jubayer (4).txt\n",
      "All Data/Emon Jubayer/Emon Jubayer (5).txt\n",
      "All Data/Emon Jubayer/Emon Jubayer (6).txt\n",
      "All Data/Emon Jubayer/Emon Jubayer (7).txt\n",
      "All Data/Emon Jubayer/Emon Jubayer (8).txt\n",
      "All Data/Emon Jubayer/Emon Jubayer (9).txt\n",
      "All Data/Emon Jubayer/Emon Jubayer (10).txt\n",
      "All Data/Faruk Wasif/Faruk Wasif (1).txt\n",
      "All Data/Faruk Wasif/Faruk Wasif (2).txt\n",
      "All Data/Faruk Wasif/Faruk Wasif (3).txt\n",
      "All Data/Faruk Wasif/Faruk Wasif (4).txt\n",
      "All Data/Faruk Wasif/Faruk Wasif (5).txt\n",
      "All Data/Faruk Wasif/Faruk Wasif (6).txt\n",
      "All Data/Faruk Wasif/Faruk Wasif (7).txt\n",
      "All Data/Faruk Wasif/Faruk Wasif (8).txt\n",
      "All Data/Faruk Wasif/Faruk Wasif (9).txt\n",
      "All Data/Faruk Wasif/Faruk Wasif (10).txt\n",
      "All Data/Gautom/Gautom (1).txt\n",
      "All Data/Gautom/Gautom (2).txt\n",
      "All Data/Gautom/Gautom (3).txt\n",
      "All Data/Gautom/Gautom (4).txt\n",
      "All Data/Gautom/Gautom (5).txt\n",
      "All Data/Gautom/Gautom (6).txt\n",
      "All Data/Gautom/Gautom (7).txt\n",
      "All Data/Gautom/Gautom (8).txt\n",
      "All Data/Gautom/Gautom (9).txt\n",
      "All Data/Gautom/Gautom (10).txt\n",
      "All Data/Hasan Mahbub/Hasan Mahbub (1).txt\n",
      "All Data/Hasan Mahbub/Hasan Mahbub (2).txt\n",
      "All Data/Hasan Mahbub/Hasan Mahbub (3).txt\n",
      "All Data/Hasan Mahbub/Hasan Mahbub (4).txt\n",
      "All Data/Hasan Mahbub/Hasan Mahbub (5).txt\n",
      "All Data/Hasan Mahbub/Hasan Mahbub (6).txt\n",
      "All Data/Hasan Mahbub/Hasan Mahbub (7).txt\n",
      "All Data/Hasan Mahbub/Hasan Mahbub (8).txt\n",
      "All Data/Hasan Mahbub/Hasan Mahbub (9).txt\n",
      "All Data/Hasan Mahbub/Hasan Mahbub (10).txt\n",
      "All Data/Hasan Morshad/Hasan Morshad (1).txt\n",
      "All Data/Hasan Morshad/Hasan Morshad (2).txt\n",
      "All Data/Hasan Morshad/Hasan Morshad (3).txt\n",
      "All Data/Hasan Morshad/Hasan Morshad (4).txt\n",
      "All Data/Hasan Morshad/Hasan Morshad (5).txt\n",
      "All Data/Hasan Morshad/Hasan Morshad (6).txt\n",
      "All Data/Hasan Morshad/Hasan Morshad (7).txt\n",
      "All Data/Hasan Morshad/Hasan Morshad (8).txt\n",
      "All Data/Hasan Morshad/Hasan Morshad (9).txt\n",
      "All Data/Hasan Morshad/Hasan Morshad (10).txt\n",
      "All Data/Himu/Himu (1).txt\n",
      "All Data/Himu/Himu (2).txt\n",
      "All Data/Himu/Himu (3).txt\n",
      "All Data/Himu/Himu (4).txt\n",
      "All Data/Himu/Himu (5).txt\n",
      "All Data/Himu/Himu (6).txt\n",
      "All Data/Himu/Himu (7).txt\n",
      "All Data/Himu/Himu (8).txt\n",
      "All Data/Himu/Himu (9).txt\n",
      "All Data/Himu/Himu (10).txt\n",
      "All Data/Ishtiak rouf/Ishtiak rouf (1).txt\n",
      "All Data/Ishtiak rouf/Ishtiak rouf (2).txt\n",
      "All Data/Ishtiak rouf/Ishtiak rouf (3).txt\n",
      "All Data/Ishtiak rouf/Ishtiak rouf (4).txt\n",
      "All Data/Ishtiak rouf/Ishtiak rouf (5).txt\n",
      "All Data/Ishtiak rouf/Ishtiak rouf (6).txt\n",
      "All Data/Ishtiak rouf/Ishtiak rouf (7).txt\n",
      "All Data/Ishtiak rouf/Ishtiak rouf (8).txt\n",
      "All Data/Ishtiak rouf/Ishtiak rouf (9).txt\n",
      "All Data/Ishtiak rouf/Ishtiak rouf (10).txt\n",
      "All Data/khekshial/khekshial (1).txt\n",
      "All Data/khekshial/khekshial (2).txt\n",
      "All Data/khekshial/khekshial (3).txt\n",
      "All Data/khekshial/khekshial (4).txt\n",
      "All Data/khekshial/khekshial (5).txt\n",
      "All Data/khekshial/khekshial (6).txt\n",
      "All Data/khekshial/khekshial (7).txt\n",
      "All Data/khekshial/khekshial (8).txt\n",
      "All Data/khekshial/khekshial (9).txt\n",
      "All Data/khekshial/khekshial (10).txt\n",
      "All Data/Mahbub Lilen/Mahbub Lilen (1).txt\n",
      "All Data/Mahbub Lilen/Mahbub Lilen (2).txt\n",
      "All Data/Mahbub Lilen/Mahbub Lilen (3).txt\n",
      "All Data/Mahbub Lilen/Mahbub Lilen (4).txt\n",
      "All Data/Mahbub Lilen/Mahbub Lilen (5).txt\n",
      "All Data/Mahbub Lilen/Mahbub Lilen (6).txt\n",
      "All Data/Mahbub Lilen/Mahbub Lilen (7).txt\n",
      "All Data/Mahbub Lilen/Mahbub Lilen (8).txt\n",
      "All Data/Mahbub Lilen/Mahbub Lilen (9).txt\n",
      "All Data/Mahbub Lilen/Mahbub Lilen (10).txt\n",
      "All Data/Muhammd Jubayer/Muhammd Jubayer (1).txt\n",
      "All Data/Muhammd Jubayer/Muhammd Jubayer (2).txt\n",
      "All Data/Muhammd Jubayer/Muhammd Jubayer (3).txt\n",
      "All Data/Muhammd Jubayer/Muhammd Jubayer (4).txt\n",
      "All Data/Muhammd Jubayer/Muhammd Jubayer (5).txt\n",
      "All Data/Muhammd Jubayer/Muhammd Jubayer (6).txt\n",
      "All Data/Muhammd Jubayer/Muhammd Jubayer (7).txt\n",
      "All Data/Muhammd Jubayer/Muhammd Jubayer (8).txt\n",
      "All Data/Muhammd Jubayer/Muhammd Jubayer (9).txt\n",
      "All Data/Muhammd Jubayer/Muhammd Jubayer (10).txt\n",
      "All Data/MZI/MZI (1).txt\n",
      "All Data/MZI/MZI (2).txt\n",
      "All Data/MZI/MZI (3).txt\n",
      "All Data/MZI/MZI (4).txt\n",
      "All Data/MZI/MZI (5).txt\n",
      "All Data/MZI/MZI (6).txt\n",
      "All Data/MZI/MZI (7).txt\n",
      "All Data/MZI/MZI (8).txt\n",
      "All Data/MZI/MZI (9).txt\n",
      "All Data/MZI/MZI (10).txt\n",
      "All Data/Nazrul Islam/Nazrul Islam (1).txt\n",
      "All Data/Nazrul Islam/Nazrul Islam (2).txt\n",
      "All Data/Nazrul Islam/Nazrul Islam (3).txt\n",
      "All Data/Nazrul Islam/Nazrul Islam (4).txt\n",
      "All Data/Nazrul Islam/Nazrul Islam (5).txt\n",
      "All Data/Nazrul Islam/Nazrul Islam (6).txt\n",
      "All Data/Nazrul Islam/Nazrul Islam (7).txt\n",
      "All Data/Nazrul Islam/Nazrul Islam (8).txt\n",
      "All Data/Nazrul Islam/Nazrul Islam (9).txt\n",
      "All Data/Nazrul Islam/Nazrul Islam (10).txt\n",
      "All Data/Nir Shondhani/Nir Shondhani (1).txt\n",
      "All Data/Nir Shondhani/Nir Shondhani (2).txt\n",
      "All Data/Nir Shondhani/Nir Shondhani (3).txt\n",
      "All Data/Nir Shondhani/Nir Shondhani (4).txt\n",
      "All Data/Nir Shondhani/Nir Shondhani (5).txt\n",
      "All Data/Nir Shondhani/Nir Shondhani (6).txt\n",
      "All Data/Nir Shondhani/Nir Shondhani (7).txt\n",
      "All Data/Nir Shondhani/Nir Shondhani (8).txt\n",
      "All Data/Nir Shondhani/Nir Shondhani (9).txt\n",
      "All Data/Nir Shondhani/Nir Shondhani (10).txt\n",
      "All Data/Poribortonshil/Poribortonshil (1).txt\n",
      "All Data/Poribortonshil/Poribortonshil (2).txt\n",
      "All Data/Poribortonshil/Poribortonshil (3).txt\n",
      "All Data/Poribortonshil/Poribortonshil (4).txt\n",
      "All Data/Poribortonshil/Poribortonshil (5).txt\n",
      "All Data/Poribortonshil/Poribortonshil (6).txt\n",
      "All Data/Poribortonshil/Poribortonshil (7).txt\n",
      "All Data/Poribortonshil/Poribortonshil (8).txt\n",
      "All Data/Poribortonshil/Poribortonshil (9).txt\n",
      "All Data/Poribortonshil/Poribortonshil (10).txt\n",
      "All Data/Putul/Putul (1).txt\n",
      "All Data/Putul/Putul (2).txt\n",
      "All Data/Putul/Putul (3).txt\n",
      "All Data/Putul/Putul (4).txt\n",
      "All Data/Putul/Putul (5).txt\n",
      "All Data/Putul/Putul (6).txt\n",
      "All Data/Putul/Putul (7).txt\n"
     ]
    },
    {
     "name": "stdout",
     "output_type": "stream",
     "text": [
      "All Data/Putul/Putul (8).txt\n",
      "All Data/Putul/Putul (9).txt\n",
      "All Data/Putul/Putul (10).txt\n",
      "All Data/Rasel/Rasel (1).txt\n",
      "All Data/Rasel/Rasel (2).txt\n",
      "All Data/Rasel/Rasel (3).txt\n",
      "All Data/Rasel/Rasel (4).txt\n",
      "All Data/Rasel/Rasel (5).txt\n",
      "All Data/Rasel/Rasel (6).txt\n",
      "All Data/Rasel/Rasel (7).txt\n",
      "All Data/Rasel/Rasel (8).txt\n",
      "All Data/Rasel/Rasel (9).txt\n",
      "All Data/Rasel/Rasel (10).txt\n",
      "All Data/Ronodipom Boshu/Ronodipom Boshu (1).txt\n",
      "All Data/Ronodipom Boshu/Ronodipom Boshu (2).txt\n",
      "All Data/Ronodipom Boshu/Ronodipom Boshu (3).txt\n",
      "All Data/Ronodipom Boshu/Ronodipom Boshu (4).txt\n",
      "All Data/Ronodipom Boshu/Ronodipom Boshu (5).txt\n",
      "All Data/Ronodipom Boshu/Ronodipom Boshu (6).txt\n",
      "All Data/Ronodipom Boshu/Ronodipom Boshu (7).txt\n",
      "All Data/Ronodipom Boshu/Ronodipom Boshu (8).txt\n",
      "All Data/Ronodipom Boshu/Ronodipom Boshu (9).txt\n",
      "All Data/Ronodipom Boshu/Ronodipom Boshu (10).txt\n",
      "All Data/S M Mahbub Morshed/S M Mahbub Morshed (1).txt\n",
      "All Data/S M Mahbub Morshed/S M Mahbub Morshed (2).txt\n",
      "All Data/S M Mahbub Morshed/S M Mahbub Morshed (3).txt\n",
      "All Data/S M Mahbub Morshed/S M Mahbub Morshed (4).txt\n",
      "All Data/S M Mahbub Morshed/S M Mahbub Morshed (5).txt\n",
      "All Data/S M Mahbub Morshed/S M Mahbub Morshed (6).txt\n",
      "All Data/S M Mahbub Morshed/S M Mahbub Morshed (7).txt\n",
      "All Data/S M Mahbub Morshed/S M Mahbub Morshed (8).txt\n",
      "All Data/S M Mahbub Morshed/S M Mahbub Morshed (9).txt\n",
      "All Data/S M Mahbub Morshed/S M Mahbub Morshed (10).txt\n",
      "All Data/Shoshto Pandob/Shoshto Pandob (1).txt\n",
      "All Data/Shoshto Pandob/Shoshto Pandob (2).txt\n",
      "All Data/Shoshto Pandob/Shoshto Pandob (3).txt\n",
      "All Data/Shoshto Pandob/Shoshto Pandob (4).txt\n",
      "All Data/Shoshto Pandob/Shoshto Pandob (5).txt\n",
      "All Data/Shoshto Pandob/Shoshto Pandob (6).txt\n",
      "All Data/Shoshto Pandob/Shoshto Pandob (7).txt\n",
      "All Data/Shoshto Pandob/Shoshto Pandob (8).txt\n",
      "All Data/Shoshto Pandob/Shoshto Pandob (9).txt\n",
      "All Data/Shoshto Pandob/Shoshto Pandob (10).txt\n",
      "All Data/Shubashis Das/Shubashis Das (1).txt\n",
      "All Data/Shubashis Das/Shubashis Das (2).txt\n",
      "All Data/Shubashis Das/Shubashis Das (3).txt\n",
      "All Data/Shubashis Das/Shubashis Das (4).txt\n",
      "All Data/Shubashis Das/Shubashis Das (5).txt\n",
      "All Data/Shubashis Das/Shubashis Das (6).txt\n",
      "All Data/Shubashis Das/Shubashis Das (7).txt\n",
      "All Data/Shubashis Das/Shubashis Das (8).txt\n",
      "All Data/Shubashis Das/Shubashis Das (9).txt\n",
      "All Data/Shubashis Das/Shubashis Das (10).txt\n",
      "All Data/Subinoy Mustafi/Subinoy Mustafi (1).txt\n",
      "All Data/Subinoy Mustafi/Subinoy Mustafi (2).txt\n",
      "All Data/Subinoy Mustafi/Subinoy Mustafi (3).txt\n",
      "All Data/Subinoy Mustafi/Subinoy Mustafi (4).txt\n",
      "All Data/Subinoy Mustafi/Subinoy Mustafi (5).txt\n",
      "All Data/Subinoy Mustafi/Subinoy Mustafi (6).txt\n",
      "All Data/Subinoy Mustafi/Subinoy Mustafi (7).txt\n",
      "All Data/Subinoy Mustafi/Subinoy Mustafi (8).txt\n",
      "All Data/Subinoy Mustafi/Subinoy Mustafi (9).txt\n",
      "All Data/Subinoy Mustafi/Subinoy Mustafi (10).txt\n",
      "All Data/Sumon Chowdhuri/Sumon Chowdhuri (1).txt\n",
      "All Data/Sumon Chowdhuri/Sumon Chowdhuri (2).txt\n",
      "All Data/Sumon Chowdhuri/Sumon Chowdhuri (3).txt\n",
      "All Data/Sumon Chowdhuri/Sumon Chowdhuri (4).txt\n",
      "All Data/Sumon Chowdhuri/Sumon Chowdhuri (5).txt\n",
      "All Data/Sumon Chowdhuri/Sumon Chowdhuri (6).txt\n",
      "All Data/Sumon Chowdhuri/Sumon Chowdhuri (7).txt\n",
      "All Data/Sumon Chowdhuri/Sumon Chowdhuri (8).txt\n",
      "All Data/Sumon Chowdhuri/Sumon Chowdhuri (9).txt\n",
      "All Data/Sumon Chowdhuri/Sumon Chowdhuri (10).txt\n",
      "All Data/Tareq Anu/Tareq Anu (1).txt\n",
      "All Data/Tareq Anu/Tareq Anu (2).txt\n",
      "All Data/Tareq Anu/Tareq Anu (3).txt\n",
      "All Data/Tareq Anu/Tareq Anu (4).txt\n",
      "All Data/Tareq Anu/Tareq Anu (5).txt\n",
      "All Data/Tareq Anu/Tareq Anu (6).txt\n",
      "All Data/Tareq Anu/Tareq Anu (7).txt\n",
      "All Data/Tareq Anu/Tareq Anu (8).txt\n",
      "All Data/Tareq Anu/Tareq Anu (9).txt\n",
      "All Data/Tareq Anu/Tareq Anu (10).txt\n",
      "All Data/Third eye/Third eye (1).txt\n",
      "All Data/Third eye/Third eye (2).txt\n",
      "All Data/Third eye/Third eye (3).txt\n",
      "All Data/Third eye/Third eye (4).txt\n",
      "All Data/Third eye/Third eye (5).txt\n",
      "All Data/Third eye/Third eye (6).txt\n",
      "All Data/Third eye/Third eye (7).txt\n",
      "All Data/Third eye/Third eye (8).txt\n",
      "All Data/Third eye/Third eye (9).txt\n",
      "All Data/Third eye/Third eye (10).txt\n",
      "All Data/Tirondaj/Tirondaj (1).txt\n",
      "All Data/Tirondaj/Tirondaj (2).txt\n",
      "All Data/Tirondaj/Tirondaj (3).txt\n",
      "All Data/Tirondaj/Tirondaj (4).txt\n",
      "All Data/Tirondaj/Tirondaj (5).txt\n",
      "All Data/Tirondaj/Tirondaj (6).txt\n",
      "All Data/Tirondaj/Tirondaj (7).txt\n",
      "All Data/Tirondaj/Tirondaj (8).txt\n",
      "All Data/Tirondaj/Tirondaj (9).txt\n",
      "All Data/Tirondaj/Tirondaj (10).txt\n",
      "All Data/Tuli Rekha/Tuli Rekha (1).txt\n",
      "All Data/Tuli Rekha/Tuli Rekha (2).txt\n",
      "All Data/Tuli Rekha/Tuli Rekha (3).txt\n",
      "All Data/Tuli Rekha/Tuli Rekha (4).txt\n",
      "All Data/Tuli Rekha/Tuli Rekha (5).txt\n",
      "All Data/Tuli Rekha/Tuli Rekha (6).txt\n",
      "All Data/Tuli Rekha/Tuli Rekha (7).txt\n",
      "All Data/Tuli Rekha/Tuli Rekha (8).txt\n",
      "All Data/Tuli Rekha/Tuli Rekha (9).txt\n",
      "All Data/Tuli Rekha/Tuli Rekha (10).txt\n"
     ]
    }
   ],
   "source": [
    "writer=['aniket','anwar sadat shimul','Biplop Rahman','bolai','confusius','Dushor ghoduli','Emon Jubayer','Faruk Wasif','Gautom','Hasan Mahbub','Hasan Morshad','Himu','Ishtiak rouf','khekshial','Mahbub Lilen','Muhammd Jubayer','MZI','Nazrul Islam','Nir Shondhani','Poribortonshil','Putul','Rasel','Ronodipom Boshu','S M Mahbub Morshed','Shoshto Pandob','Shubashis Das','Subinoy Mustafi','Sumon Chowdhuri','Tareq Anu','Third eye','Tirondaj','Tuli Rekha']\n",
    "\n",
    "#aniket (1)\n",
    "\n",
    "for i in range(len(writer)):\n",
    "    #data_path = 'All Data'+'\\'+writer[i]+'\\'+writer[i]+' ('+str(i)+').txt'\n",
    "    for j in range(1,11):\n",
    "        data_path = 'All Data'+'/'+writer[i]+'/'+writer[i]+' ('+str(j)+').txt'\n",
    "        print(data_path)\n",
    "    \n",
    "        with open(data_path, 'r', encoding='utf-8') as f:\n",
    "            lines = f.read()\n",
    "        \n",
    "            articles.append({\n",
    "            'text': lines,\n",
    "            'user_id': writer[i]})"
   ]
  },
  {
   "cell_type": "code",
   "execution_count": 192,
   "metadata": {},
   "outputs": [
    {
     "data": {
      "text/plain": [
       "320"
      ]
     },
     "execution_count": 192,
     "metadata": {},
     "output_type": "execute_result"
    }
   ],
   "source": [
    "len(articles)"
   ]
  },
  {
   "cell_type": "code",
   "execution_count": 193,
   "metadata": {},
   "outputs": [],
   "source": [
    "from collections import Counter\n",
    " \n",
    "prolific_writers = Counter([\n",
    "article['user_id']\n",
    "for article in articles]\n",
    ").most_common(32)"
   ]
  },
  {
   "cell_type": "code",
   "execution_count": 194,
   "metadata": {},
   "outputs": [
    {
     "data": {
      "text/plain": [
       "[('aniket', 10),\n",
       " ('anwar sadat shimul', 10),\n",
       " ('Biplop Rahman', 10),\n",
       " ('bolai', 10),\n",
       " ('confusius', 10)]"
      ]
     },
     "execution_count": 194,
     "metadata": {},
     "output_type": "execute_result"
    }
   ],
   "source": [
    "prolific_writers[:5]"
   ]
  },
  {
   "cell_type": "code",
   "execution_count": 195,
   "metadata": {},
   "outputs": [],
   "source": [
    "keep_ids = {pr[0] : 0 for pr in prolific_writers}\n",
    " \n",
    "keep_articles = []\n",
    "for article in articles:\n",
    "    uid = article['user_id']\n",
    "    if uid in keep_ids and keep_ids[uid] < 10:\n",
    "        keep_articles.append(article)\n",
    "        keep_ids[uid] += 1"
   ]
  },
  {
   "cell_type": "code",
   "execution_count": 196,
   "metadata": {
    "collapsed": true
   },
   "outputs": [],
   "source": [
    "texts = [article['text'] for article in keep_articles]\n",
    "authors = [article['user_id'] for article in keep_articles]"
   ]
  },
  {
   "cell_type": "code",
   "execution_count": 197,
   "metadata": {
    "collapsed": true
   },
   "outputs": [],
   "source": [
    "from sklearn.feature_extraction.text import TfidfVectorizer\n",
    "from sklearn.svm import LinearSVC\n",
    "from sklearn.model_selection import train_test_split"
   ]
  },
  {
   "cell_type": "code",
   "execution_count": 198,
   "metadata": {},
   "outputs": [
    {
     "name": "stdout",
     "output_type": "stream",
     "text": [
      "(320, 8537)\n"
     ]
    }
   ],
   "source": [
    "vectorizer = TfidfVectorizer(ngram_range=(1,2), min_df=5)\n",
    "vectors = vectorizer.fit_transform(texts)\n",
    "print(vectors.shape)"
   ]
  },
  {
   "cell_type": "code",
   "execution_count": 199,
   "metadata": {
    "collapsed": true
   },
   "outputs": [],
   "source": [
    "X_train, X_test, y_train, y_test = train_test_split(vectors, authors, test_size=0.4, random_state=1337)"
   ]
  },
  {
   "cell_type": "code",
   "execution_count": 200,
   "metadata": {},
   "outputs": [
    {
     "name": "stdout",
     "output_type": "stream",
     "text": [
      "(192, 8537) (128, 8537)\n"
     ]
    }
   ],
   "source": [
    "print(X_train.shape, X_test.shape)"
   ]
  },
  {
   "cell_type": "code",
   "execution_count": 201,
   "metadata": {},
   "outputs": [
    {
     "data": {
      "text/plain": [
       "LinearSVC(C=1.0, class_weight=None, dual=True, fit_intercept=True,\n",
       "     intercept_scaling=1, loss='squared_hinge', max_iter=1000,\n",
       "     multi_class='ovr', penalty='l2', random_state=None, tol=0.0001,\n",
       "     verbose=0)"
      ]
     },
     "execution_count": 201,
     "metadata": {},
     "output_type": "execute_result"
    }
   ],
   "source": [
    "svm = LinearSVC()\n",
    "svm.fit(X_train, y_train)"
   ]
  },
  {
   "cell_type": "code",
   "execution_count": 202,
   "metadata": {},
   "outputs": [
    {
     "name": "stdout",
     "output_type": "stream",
     "text": [
      "['Shoshto Pandob', 'Ronodipom Boshu', 'Faruk Wasif', 'Third eye', 'Ronodipom Boshu', 'Tuli Rekha', 'MZI', 'aniket', 'S M Mahbub Morshed', 'bolai', 'Poribortonshil', 'Third eye', 'anwar sadat shimul', 'Rasel', 'Ronodipom Boshu', 'Rasel', 'Subinoy Mustafi', 'Putul', 'Mahbub Lilen', 'Ronodipom Boshu', 'Emon Jubayer', 'Hasan Mahbub', 'Muhammd Jubayer', 'Putul', 'Faruk Wasif', 'Tirondaj', 'Ronodipom Boshu', 'anwar sadat shimul', 'Emon Jubayer', 'Tareq Anu', 'Nir Shondhani', 'Shubashis Das', 'Putul', 'Gautom', 'Tuli Rekha', 'Ishtiak rouf', 'Mahbub Lilen', 'aniket', 'S M Mahbub Morshed', 'Shoshto Pandob', 'aniket', 'Shubashis Das', 'Hasan Morshad', 'Shoshto Pandob', 'Shubashis Das', 'Tareq Anu', 'Third eye', 'MZI', 'khekshial', 'Rasel', 'khekshial', 'Mahbub Lilen', 'Gautom', 'Tirondaj', 'Shoshto Pandob', 'Nir Shondhani', 'Nazrul Islam', 'Hasan Mahbub', 'Nazrul Islam', 'Gautom', 'Tirondaj', 'Subinoy Mustafi', 'anwar sadat shimul', 'Third eye', 'Muhammd Jubayer', 'bolai', 'Emon Jubayer', 'Poribortonshil', 'MZI', 'Emon Jubayer', 'khekshial', 'Mahbub Lilen', 'Hasan Mahbub', 'Mahbub Lilen', 'aniket', 'Rasel', 'Shubashis Das', 'Nir Shondhani', 'Tuli Rekha', 'Ishtiak rouf', 'Shoshto Pandob', 'MZI', 'Shubashis Das', 'Dushor ghoduli', 'MZI', 'Muhammd Jubayer', 'Third eye', 'Tareq Anu', 'Tareq Anu', 'Tareq Anu', 'Gautom', 'Putul', 'MZI', 'Tareq Anu', 'khekshial', 'Faruk Wasif', 'Hasan Mahbub', 'Gautom', 'anwar sadat shimul', 'Rasel', 'Gautom', 'Nazrul Islam', 'Sumon Chowdhuri', 'bolai', 'MZI', 'Tuli Rekha', 'Nazrul Islam', 'Hasan Morshad', 'Hasan Mahbub', 'Tirondaj', 'Sumon Chowdhuri', 'anwar sadat shimul', 'Mahbub Lilen', 'Ronodipom Boshu', 'Tuli Rekha', 'Rasel', 'Tuli Rekha', 'Emon Jubayer', 'Muhammd Jubayer', 'Dushor ghoduli', 'Dushor ghoduli', 'Tareq Anu', 'MZI', 'anwar sadat shimul', 'Nir Shondhani', 'MZI', 'Dushor ghoduli', 'Faruk Wasif']\n"
     ]
    }
   ],
   "source": [
    "predictions = svm.predict(X_test)\n",
    "print(list(predictions))"
   ]
  },
  {
   "cell_type": "code",
   "execution_count": 203,
   "metadata": {},
   "outputs": [
    {
     "name": "stdout",
     "output_type": "stream",
     "text": [
      "['Subinoy Mustafi', 'Muhammd Jubayer', 'Putul', 'Third eye', 'Ronodipom Boshu', 'Tuli Rekha', 'MZI', 'Poribortonshil', 'Sumon Chowdhuri', 'bolai', 'Himu', 'Ishtiak rouf', 'anwar sadat shimul', 'Rasel', 'Ronodipom Boshu', 'Rasel', 'Subinoy Mustafi', 'Putul', 'Biplop Rahman', 'Ronodipom Boshu', 'Hasan Mahbub', 'Hasan Mahbub', 'Muhammd Jubayer', 'Putul', 'Biplop Rahman', 'Tirondaj', 'Tareq Anu', 'Sumon Chowdhuri', 'Poribortonshil', 'Ishtiak rouf', 'Nazrul Islam', 'Emon Jubayer', 'Putul', 'Biplop Rahman', 'Tuli Rekha', 'Ishtiak rouf', 'Faruk Wasif', 'confusius', 'confusius', 'Shoshto Pandob', 'aniket', 'Subinoy Mustafi', 'Nir Shondhani', 'Muhammd Jubayer', 'Subinoy Mustafi', 'Emon Jubayer', 'Himu', 'Ishtiak rouf', 'Shubashis Das', 'Dushor ghoduli', 'Biplop Rahman', 'Mahbub Lilen', 'confusius', 'Tirondaj', 'Shoshto Pandob', 'Nir Shondhani', 'Hasan Morshad', 'Dushor ghoduli', 'Nazrul Islam', 'Gautom', 'Himu', 'Subinoy Mustafi', 'Nazrul Islam', 'bolai', 'Subinoy Mustafi', 'bolai', 'Emon Jubayer', 'Poribortonshil', 'Sumon Chowdhuri', 'Ishtiak rouf', 'Putul', 'Mahbub Lilen', 'Hasan Mahbub', 'bolai', 'Muhammd Jubayer', 'Rasel', 'Dushor ghoduli', 'Biplop Rahman', 'Poribortonshil', 'Ishtiak rouf', 'Rasel', 'Shoshto Pandob', 'Hasan Morshad', 'Ishtiak rouf', 'MZI', 'Dushor ghoduli', 'Third eye', 'Himu', 'Tareq Anu', 'Faruk Wasif', 'Gautom', 'Putul', 'MZI', 'confusius', 'Dushor ghoduli', 'Shoshto Pandob', 'Hasan Mahbub', 'Gautom', 'Biplop Rahman', 'Hasan Morshad', 'Dushor ghoduli', 'Nazrul Islam', 'Sumon Chowdhuri', 'bolai', 'MZI', 'Tuli Rekha', 'Sumon Chowdhuri', 'Hasan Morshad', 'confusius', 'Tirondaj', 'Sumon Chowdhuri', 'Biplop Rahman', 'Mahbub Lilen', 'Tareq Anu', 'Tuli Rekha', 'Nir Shondhani', 'Tuli Rekha', 'Emon Jubayer', 'Dushor ghoduli', 'confusius', 'confusius', 'Himu', 'MZI', 'Ishtiak rouf', 'Nir Shondhani', 'Himu', 'Dushor ghoduli', 'Poribortonshil']\n"
     ]
    }
   ],
   "source": [
    "print(y_test)"
   ]
  },
  {
   "cell_type": "code",
   "execution_count": 204,
   "metadata": {},
   "outputs": [
    {
     "name": "stdout",
     "output_type": "stream",
     "text": [
      "0.453125\n"
     ]
    }
   ],
   "source": [
    "from sklearn.metrics import accuracy_score\n",
    "print(accuracy_score(y_test, predictions))"
   ]
  },
  {
   "cell_type": "code",
   "execution_count": 205,
   "metadata": {},
   "outputs": [
    {
     "name": "stdout",
     "output_type": "stream",
     "text": [
      "['Subinoy Mustafi', 'Muhammd Jubayer', 'Putul', 'Third eye', 'Ronodipom Boshu', 'Tuli Rekha', 'MZI', 'Poribortonshil', 'Sumon Chowdhuri', 'bolai', 'Himu', 'Ishtiak rouf', 'anwar sadat shimul', 'Rasel', 'Ronodipom Boshu', 'Rasel', 'Subinoy Mustafi', 'Putul', 'Biplop Rahman', 'Ronodipom Boshu', 'Hasan Mahbub', 'Hasan Mahbub', 'Muhammd Jubayer', 'Putul', 'Biplop Rahman', 'Tirondaj', 'Tareq Anu', 'Sumon Chowdhuri', 'Poribortonshil', 'Ishtiak rouf', 'Nazrul Islam', 'Emon Jubayer', 'Putul', 'Biplop Rahman', 'Tuli Rekha', 'Ishtiak rouf', 'Faruk Wasif', 'confusius', 'confusius', 'Shoshto Pandob', 'aniket', 'Subinoy Mustafi', 'Nir Shondhani', 'Muhammd Jubayer', 'Subinoy Mustafi', 'Emon Jubayer', 'Himu', 'Ishtiak rouf', 'Shubashis Das', 'Dushor ghoduli', 'Biplop Rahman', 'Mahbub Lilen', 'confusius', 'Tirondaj', 'Shoshto Pandob', 'Nir Shondhani', 'Hasan Morshad', 'Dushor ghoduli', 'Nazrul Islam', 'Gautom', 'Himu', 'Subinoy Mustafi', 'Nazrul Islam', 'bolai', 'Subinoy Mustafi', 'bolai', 'Emon Jubayer', 'Poribortonshil', 'Sumon Chowdhuri', 'Ishtiak rouf', 'Putul', 'Mahbub Lilen', 'Hasan Mahbub', 'bolai', 'Muhammd Jubayer', 'Rasel', 'Dushor ghoduli', 'Biplop Rahman', 'Poribortonshil', 'Ishtiak rouf', 'Rasel', 'Shoshto Pandob', 'Hasan Morshad', 'Ishtiak rouf', 'MZI', 'Dushor ghoduli', 'Third eye', 'Himu', 'Tareq Anu', 'Faruk Wasif', 'Gautom', 'Putul', 'MZI', 'confusius', 'Dushor ghoduli', 'Shoshto Pandob', 'Hasan Mahbub', 'Gautom', 'Biplop Rahman', 'Hasan Morshad', 'Dushor ghoduli', 'Nazrul Islam', 'Sumon Chowdhuri', 'bolai', 'MZI', 'Tuli Rekha', 'Sumon Chowdhuri', 'Hasan Morshad', 'confusius', 'Tirondaj', 'Sumon Chowdhuri', 'Biplop Rahman', 'Mahbub Lilen', 'Tareq Anu', 'Tuli Rekha', 'Nir Shondhani', 'Tuli Rekha', 'Emon Jubayer', 'Dushor ghoduli', 'confusius', 'confusius', 'Himu', 'MZI', 'Ishtiak rouf', 'Nir Shondhani', 'Himu', 'Dushor ghoduli', 'Poribortonshil']\n"
     ]
    }
   ],
   "source": [
    "print(y_test)"
   ]
  },
  {
   "cell_type": "code",
   "execution_count": null,
   "metadata": {
    "collapsed": true
   },
   "outputs": [],
   "source": []
  }
 ],
 "metadata": {
  "kernelspec": {
   "display_name": "Python 3",
   "language": "python",
   "name": "python3"
  },
  "language_info": {
   "codemirror_mode": {
    "name": "ipython",
    "version": 3
   },
   "file_extension": ".py",
   "mimetype": "text/x-python",
   "name": "python",
   "nbconvert_exporter": "python",
   "pygments_lexer": "ipython3",
   "version": "3.6.3"
  }
 },
 "nbformat": 4,
 "nbformat_minor": 2
}
