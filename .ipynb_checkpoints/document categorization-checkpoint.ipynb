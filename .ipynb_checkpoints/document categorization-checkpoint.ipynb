{
 "cells": [
  {
   "cell_type": "code",
   "execution_count": 5,
   "metadata": {},
   "outputs": [
    {
     "data": {
      "text/html": [
       "<div>\n",
       "<style scoped>\n",
       "    .dataframe tbody tr th:only-of-type {\n",
       "        vertical-align: middle;\n",
       "    }\n",
       "\n",
       "    .dataframe tbody tr th {\n",
       "        vertical-align: top;\n",
       "    }\n",
       "\n",
       "    .dataframe thead th {\n",
       "        text-align: right;\n",
       "    }\n",
       "</style>\n",
       "<table border=\"1\" class=\"dataframe\">\n",
       "  <thead>\n",
       "    <tr style=\"text-align: right;\">\n",
       "      <th></th>\n",
       "      <th>Date received</th>\n",
       "      <th>Product</th>\n",
       "      <th>Sub-product</th>\n",
       "      <th>Issue</th>\n",
       "      <th>Sub-issue</th>\n",
       "      <th>Consumer complaint narrative</th>\n",
       "      <th>Company public response</th>\n",
       "      <th>Company</th>\n",
       "      <th>State</th>\n",
       "      <th>ZIP code</th>\n",
       "      <th>Tags</th>\n",
       "      <th>Consumer consent provided?</th>\n",
       "      <th>Submitted via</th>\n",
       "      <th>Date sent to company</th>\n",
       "      <th>Company response to consumer</th>\n",
       "      <th>Timely response?</th>\n",
       "      <th>Consumer disputed?</th>\n",
       "      <th>Complaint ID</th>\n",
       "    </tr>\n",
       "  </thead>\n",
       "  <tbody>\n",
       "    <tr>\n",
       "      <th>0</th>\n",
       "      <td>03/12/2014</td>\n",
       "      <td>Mortgage</td>\n",
       "      <td>Other mortgage</td>\n",
       "      <td>Loan modification,collection,foreclosure</td>\n",
       "      <td>NaN</td>\n",
       "      <td>NaN</td>\n",
       "      <td>NaN</td>\n",
       "      <td>M&amp;T BANK CORPORATION</td>\n",
       "      <td>MI</td>\n",
       "      <td>48382</td>\n",
       "      <td>NaN</td>\n",
       "      <td>NaN</td>\n",
       "      <td>Referral</td>\n",
       "      <td>03/17/2014</td>\n",
       "      <td>Closed with explanation</td>\n",
       "      <td>Yes</td>\n",
       "      <td>No</td>\n",
       "      <td>759217</td>\n",
       "    </tr>\n",
       "    <tr>\n",
       "      <th>1</th>\n",
       "      <td>10/01/2016</td>\n",
       "      <td>Credit reporting</td>\n",
       "      <td>NaN</td>\n",
       "      <td>Incorrect information on credit report</td>\n",
       "      <td>Account status</td>\n",
       "      <td>I have outdated information on my credit repor...</td>\n",
       "      <td>Company has responded to the consumer and the ...</td>\n",
       "      <td>TRANSUNION INTERMEDIATE HOLDINGS, INC.</td>\n",
       "      <td>AL</td>\n",
       "      <td>352XX</td>\n",
       "      <td>NaN</td>\n",
       "      <td>Consent provided</td>\n",
       "      <td>Web</td>\n",
       "      <td>10/05/2016</td>\n",
       "      <td>Closed with explanation</td>\n",
       "      <td>Yes</td>\n",
       "      <td>No</td>\n",
       "      <td>2141773</td>\n",
       "    </tr>\n",
       "    <tr>\n",
       "      <th>2</th>\n",
       "      <td>10/17/2016</td>\n",
       "      <td>Consumer Loan</td>\n",
       "      <td>Vehicle loan</td>\n",
       "      <td>Managing the loan or lease</td>\n",
       "      <td>NaN</td>\n",
       "      <td>I purchased a new car on XXXX XXXX. The car de...</td>\n",
       "      <td>NaN</td>\n",
       "      <td>CITIZENS FINANCIAL GROUP, INC.</td>\n",
       "      <td>PA</td>\n",
       "      <td>177XX</td>\n",
       "      <td>Older American</td>\n",
       "      <td>Consent provided</td>\n",
       "      <td>Web</td>\n",
       "      <td>10/20/2016</td>\n",
       "      <td>Closed with explanation</td>\n",
       "      <td>Yes</td>\n",
       "      <td>No</td>\n",
       "      <td>2163100</td>\n",
       "    </tr>\n",
       "    <tr>\n",
       "      <th>3</th>\n",
       "      <td>06/08/2014</td>\n",
       "      <td>Credit card</td>\n",
       "      <td>NaN</td>\n",
       "      <td>Bankruptcy</td>\n",
       "      <td>NaN</td>\n",
       "      <td>NaN</td>\n",
       "      <td>NaN</td>\n",
       "      <td>AMERICAN EXPRESS COMPANY</td>\n",
       "      <td>ID</td>\n",
       "      <td>83854</td>\n",
       "      <td>Older American</td>\n",
       "      <td>NaN</td>\n",
       "      <td>Web</td>\n",
       "      <td>06/10/2014</td>\n",
       "      <td>Closed with explanation</td>\n",
       "      <td>Yes</td>\n",
       "      <td>Yes</td>\n",
       "      <td>885638</td>\n",
       "    </tr>\n",
       "    <tr>\n",
       "      <th>4</th>\n",
       "      <td>09/13/2014</td>\n",
       "      <td>Debt collection</td>\n",
       "      <td>Credit card</td>\n",
       "      <td>Communication tactics</td>\n",
       "      <td>Frequent or repeated calls</td>\n",
       "      <td>NaN</td>\n",
       "      <td>NaN</td>\n",
       "      <td>CITIBANK, N.A.</td>\n",
       "      <td>VA</td>\n",
       "      <td>23233</td>\n",
       "      <td>NaN</td>\n",
       "      <td>NaN</td>\n",
       "      <td>Web</td>\n",
       "      <td>09/13/2014</td>\n",
       "      <td>Closed with explanation</td>\n",
       "      <td>Yes</td>\n",
       "      <td>Yes</td>\n",
       "      <td>1027760</td>\n",
       "    </tr>\n",
       "  </tbody>\n",
       "</table>\n",
       "</div>"
      ],
      "text/plain": [
       "  Date received           Product     Sub-product  \\\n",
       "0    03/12/2014          Mortgage  Other mortgage   \n",
       "1    10/01/2016  Credit reporting             NaN   \n",
       "2    10/17/2016     Consumer Loan    Vehicle loan   \n",
       "3    06/08/2014       Credit card             NaN   \n",
       "4    09/13/2014   Debt collection     Credit card   \n",
       "\n",
       "                                      Issue                   Sub-issue  \\\n",
       "0  Loan modification,collection,foreclosure                         NaN   \n",
       "1    Incorrect information on credit report              Account status   \n",
       "2                Managing the loan or lease                         NaN   \n",
       "3                                Bankruptcy                         NaN   \n",
       "4                     Communication tactics  Frequent or repeated calls   \n",
       "\n",
       "                        Consumer complaint narrative  \\\n",
       "0                                                NaN   \n",
       "1  I have outdated information on my credit repor...   \n",
       "2  I purchased a new car on XXXX XXXX. The car de...   \n",
       "3                                                NaN   \n",
       "4                                                NaN   \n",
       "\n",
       "                             Company public response  \\\n",
       "0                                                NaN   \n",
       "1  Company has responded to the consumer and the ...   \n",
       "2                                                NaN   \n",
       "3                                                NaN   \n",
       "4                                                NaN   \n",
       "\n",
       "                                  Company State ZIP code            Tags  \\\n",
       "0                    M&T BANK CORPORATION    MI    48382             NaN   \n",
       "1  TRANSUNION INTERMEDIATE HOLDINGS, INC.    AL    352XX             NaN   \n",
       "2          CITIZENS FINANCIAL GROUP, INC.    PA    177XX  Older American   \n",
       "3                AMERICAN EXPRESS COMPANY    ID    83854  Older American   \n",
       "4                          CITIBANK, N.A.    VA    23233             NaN   \n",
       "\n",
       "  Consumer consent provided? Submitted via Date sent to company  \\\n",
       "0                        NaN      Referral           03/17/2014   \n",
       "1           Consent provided           Web           10/05/2016   \n",
       "2           Consent provided           Web           10/20/2016   \n",
       "3                        NaN           Web           06/10/2014   \n",
       "4                        NaN           Web           09/13/2014   \n",
       "\n",
       "  Company response to consumer Timely response? Consumer disputed?  \\\n",
       "0      Closed with explanation              Yes                 No   \n",
       "1      Closed with explanation              Yes                 No   \n",
       "2      Closed with explanation              Yes                 No   \n",
       "3      Closed with explanation              Yes                Yes   \n",
       "4      Closed with explanation              Yes                Yes   \n",
       "\n",
       "   Complaint ID  \n",
       "0        759217  \n",
       "1       2141773  \n",
       "2       2163100  \n",
       "3        885638  \n",
       "4       1027760  "
      ]
     },
     "execution_count": 5,
     "metadata": {},
     "output_type": "execute_result"
    }
   ],
   "source": [
    "import pandas as pd\n",
    "df = pd.read_csv('Consumer_Complaints.csv',nrows=1000)\n",
    "df.head()"
   ]
  },
  {
   "cell_type": "code",
   "execution_count": 6,
   "metadata": {},
   "outputs": [
    {
     "data": {
      "text/html": [
       "<div>\n",
       "<style scoped>\n",
       "    .dataframe tbody tr th:only-of-type {\n",
       "        vertical-align: middle;\n",
       "    }\n",
       "\n",
       "    .dataframe tbody tr th {\n",
       "        vertical-align: top;\n",
       "    }\n",
       "\n",
       "    .dataframe thead th {\n",
       "        text-align: right;\n",
       "    }\n",
       "</style>\n",
       "<table border=\"1\" class=\"dataframe\">\n",
       "  <thead>\n",
       "    <tr style=\"text-align: right;\">\n",
       "      <th></th>\n",
       "      <th>Product</th>\n",
       "      <th>Consumer_complaint_narrative</th>\n",
       "      <th>category_id</th>\n",
       "    </tr>\n",
       "  </thead>\n",
       "  <tbody>\n",
       "    <tr>\n",
       "      <th>1</th>\n",
       "      <td>Credit reporting</td>\n",
       "      <td>I have outdated information on my credit repor...</td>\n",
       "      <td>0</td>\n",
       "    </tr>\n",
       "    <tr>\n",
       "      <th>2</th>\n",
       "      <td>Consumer Loan</td>\n",
       "      <td>I purchased a new car on XXXX XXXX. The car de...</td>\n",
       "      <td>1</td>\n",
       "    </tr>\n",
       "    <tr>\n",
       "      <th>7</th>\n",
       "      <td>Credit reporting</td>\n",
       "      <td>An account on my credit report has a mistaken ...</td>\n",
       "      <td>0</td>\n",
       "    </tr>\n",
       "    <tr>\n",
       "      <th>12</th>\n",
       "      <td>Debt collection</td>\n",
       "      <td>This company refuses to provide me verificatio...</td>\n",
       "      <td>2</td>\n",
       "    </tr>\n",
       "    <tr>\n",
       "      <th>16</th>\n",
       "      <td>Debt collection</td>\n",
       "      <td>This complaint is in regards to Square Two Fin...</td>\n",
       "      <td>2</td>\n",
       "    </tr>\n",
       "  </tbody>\n",
       "</table>\n",
       "</div>"
      ],
      "text/plain": [
       "             Product                       Consumer_complaint_narrative  \\\n",
       "1   Credit reporting  I have outdated information on my credit repor...   \n",
       "2      Consumer Loan  I purchased a new car on XXXX XXXX. The car de...   \n",
       "7   Credit reporting  An account on my credit report has a mistaken ...   \n",
       "12   Debt collection  This company refuses to provide me verificatio...   \n",
       "16   Debt collection  This complaint is in regards to Square Two Fin...   \n",
       "\n",
       "    category_id  \n",
       "1             0  \n",
       "2             1  \n",
       "7             0  \n",
       "12            2  \n",
       "16            2  "
      ]
     },
     "execution_count": 6,
     "metadata": {},
     "output_type": "execute_result"
    }
   ],
   "source": [
    "from io import StringIO\n",
    "col = ['Product', 'Consumer complaint narrative']\n",
    "df = df[col]\n",
    "df = df[pd.notnull(df['Consumer complaint narrative'])]\n",
    "df.columns = ['Product', 'Consumer_complaint_narrative']\n",
    "df['category_id'] = df['Product'].factorize()[0]\n",
    "category_id_df = df[['Product', 'category_id']].drop_duplicates().sort_values('category_id')\n",
    "category_to_id = dict(category_id_df.values)\n",
    "id_to_category = dict(category_id_df[['category_id', 'Product']].values)\n",
    "df.head()"
   ]
  },
  {
   "cell_type": "code",
   "execution_count": 7,
   "metadata": {},
   "outputs": [
    {
     "data": {
      "image/png": "[encoded data removed]",
      "text/plain": [
       "<matplotlib.figure.Figure at 0xef8ff49048>"
      ]
     },
     "metadata": {},
     "output_type": "display_data"
    }
   ],
   "source": [
    "import matplotlib.pyplot as plt\n",
    "fig = plt.figure(figsize=(8,6))\n",
    "df.groupby('Product').Consumer_complaint_narrative.count().plot.bar(ylim=0)\n",
    "plt.show()"
   ]
  },
  {
   "cell_type": "code",
   "execution_count": 8,
   "metadata": {},
   "outputs": [
    {
     "data": {
      "text/plain": [
       "(218, 739)"
      ]
     },
     "execution_count": 8,
     "metadata": {},
     "output_type": "execute_result"
    }
   ],
   "source": [
    "from sklearn.feature_extraction.text import TfidfVectorizer\n",
    "tfidf = TfidfVectorizer(sublinear_tf=True, min_df=5, norm='l2', encoding='latin-1', ngram_range=(1, 2), stop_words='english')\n",
    "features = tfidf.fit_transform(df.Consumer_complaint_narrative).toarray()\n",
    "labels = df.category_id\n",
    "features.shape"
   ]
  },
  {
   "cell_type": "code",
   "execution_count": 9,
   "metadata": {},
   "outputs": [
    {
     "name": "stdout",
     "output_type": "stream",
     "text": [
      "# 'Bank account or service':\n",
      "  . Most correlated unigrams:\n",
      ". funds\n",
      ". overdraft\n",
      "  . Most correlated bigrams:\n",
      ". xxxx check\n",
      ". closed account\n",
      "# 'Consumer Loan':\n",
      "  . Most correlated unigrams:\n",
      ". ally\n",
      ". vehicle\n",
      "  . Most correlated bigrams:\n",
      ". 00 xxxx\n",
      ". received xxxx\n",
      "# 'Credit card':\n",
      "  . Most correlated unigrams:\n",
      ". annual\n",
      ". card\n",
      "  . Most correlated bigrams:\n",
      ". months later\n",
      ". credit card\n",
      "# 'Credit reporting':\n",
      "  . Most correlated unigrams:\n",
      ". equifax\n",
      ". experian\n",
      "  . Most correlated bigrams:\n",
      ". information credit\n",
      ". credit report\n",
      "# 'Debt collection':\n",
      "  . Most correlated unigrams:\n",
      ". collection\n",
      ". debt\n",
      "  . Most correlated bigrams:\n",
      ". collection agency\n",
      ". debt collector\n",
      "# 'Money transfers':\n",
      "  . Most correlated unigrams:\n",
      ". buyer\n",
      ". attention\n",
      "  . Most correlated bigrams:\n",
      ". sent xxxx\n",
      ". mortgage company\n",
      "# 'Mortgage':\n",
      "  . Most correlated unigrams:\n",
      ". modification\n",
      ". mortgage\n",
      "  . Most correlated bigrams:\n",
      ". short sale\n",
      ". mortgage loan\n",
      "# 'Other financial service':\n",
      "  . Most correlated unigrams:\n",
      ". worked\n",
      ". support\n",
      "  . Most correlated bigrams:\n",
      ". score xxxx\n",
      ". bank america\n",
      "# 'Payday loan':\n",
      "  . Most correlated unigrams:\n",
      ". finance\n",
      ". principal\n",
      "  . Most correlated bigrams:\n",
      ". xxxx month\n",
      ". xxxx loan\n",
      "# 'Prepaid card':\n",
      "  . Most correlated unigrams:\n",
      ". denied\n",
      ". ability\n",
      "  . Most correlated bigrams:\n",
      ". credit card\n",
      ". federal law\n",
      "# 'Student loan':\n",
      "  . Most correlated unigrams:\n",
      ". school\n",
      ". navient\n",
      "  . Most correlated bigrams:\n",
      ". make payments\n",
      ". student loan\n"
     ]
    }
   ],
   "source": [
    "from sklearn.feature_selection import chi2\n",
    "import numpy as np\n",
    "N = 2\n",
    "for Product, category_id in sorted(category_to_id.items()):\n",
    "  features_chi2 = chi2(features, labels == category_id)\n",
    "  indices = np.argsort(features_chi2[0])\n",
    "  feature_names = np.array(tfidf.get_feature_names())[indices]\n",
    "  unigrams = [v for v in feature_names if len(v.split(' ')) == 1]\n",
    "  bigrams = [v for v in feature_names if len(v.split(' ')) == 2]\n",
    "  print(\"# '{}':\".format(Product))\n",
    "  print(\"  . Most correlated unigrams:\\n. {}\".format('\\n. '.join(unigrams[-N:])))\n",
    "  print(\"  . Most correlated bigrams:\\n. {}\".format('\\n. '.join(bigrams[-N:])))"
   ]
  },
  {
   "cell_type": "code",
   "execution_count": 10,
   "metadata": {
    "collapsed": true
   },
   "outputs": [],
   "source": [
    "from sklearn.model_selection import train_test_split\n",
    "from sklearn.feature_extraction.text import CountVectorizer\n",
    "from sklearn.feature_extraction.text import TfidfTransformer\n",
    "from sklearn.naive_bayes import MultinomialNB\n",
    "X_train, X_test, y_train, y_test = train_test_split(df['Consumer_complaint_narrative'], df['Product'], random_state = 0)\n",
    "count_vect = CountVectorizer()\n",
    "X_train_counts = count_vect.fit_transform(X_train)\n",
    "tfidf_transformer = TfidfTransformer()\n",
    "X_train_tfidf = tfidf_transformer.fit_transform(X_train_counts)\n",
    "clf = MultinomialNB().fit(X_train_tfidf, y_train)"
   ]
  },
  {
   "cell_type": "code",
   "execution_count": 11,
   "metadata": {},
   "outputs": [
    {
     "name": "stdout",
     "output_type": "stream",
     "text": [
      "['Debt collection']\n"
     ]
    }
   ],
   "source": [
    "print(clf.predict(count_vect.transform([\"This company refuses to provide me verification and validation of debt per my right under the FDCPA. I do not believe this debt is mine.\"])))"
   ]
  },
  {
   "cell_type": "code",
   "execution_count": 12,
   "metadata": {},
   "outputs": [
    {
     "name": "stdout",
     "output_type": "stream",
     "text": [
      "['Debt collection']\n"
     ]
    }
   ],
   "source": [
    "print(clf.predict(count_vect.transform([\"I am disputing the inaccurate information the Chex-Systems has on my credit report. I initially submitted a police report on XXXX/XXXX/16 and Chex Systems only deleted the items that I mentioned in the letter and not all the items that were actually listed on the police report. In other words they wanted me to say word for word to them what items were fraudulent. The total disregard of the police report and what accounts that it states that are fraudulent. If they just had paid a little closer attention to the police report I would not been in this position now and they would n't have to research once again. I would like the reported information to be removed : XXXX XXXX XXXX\"])))"
   ]
  },
  {
   "cell_type": "code",
   "execution_count": 13,
   "metadata": {},
   "outputs": [
    {
     "name": "stderr",
     "output_type": "stream",
     "text": [
      "C:\\Users\\RANA_CSE\\Anaconda3\\lib\\site-packages\\sklearn\\model_selection\\_split.py:605: Warning: The least populated class in y has only 1 members, which is too few. The minimum number of members in any class cannot be less than n_splits=5.\n",
      "  % (min_groups, self.n_splits)), Warning)\n",
      "C:\\Users\\RANA_CSE\\Anaconda3\\lib\\site-packages\\sklearn\\model_selection\\_split.py:605: Warning: The least populated class in y has only 1 members, which is too few. The minimum number of members in any class cannot be less than n_splits=5.\n",
      "  % (min_groups, self.n_splits)), Warning)\n",
      "C:\\Users\\RANA_CSE\\Anaconda3\\lib\\site-packages\\sklearn\\model_selection\\_split.py:605: Warning: The least populated class in y has only 1 members, which is too few. The minimum number of members in any class cannot be less than n_splits=5.\n",
      "  % (min_groups, self.n_splits)), Warning)\n",
      "C:\\Users\\RANA_CSE\\Anaconda3\\lib\\site-packages\\sklearn\\model_selection\\_split.py:605: Warning: The least populated class in y has only 1 members, which is too few. The minimum number of members in any class cannot be less than n_splits=5.\n",
      "  % (min_groups, self.n_splits)), Warning)\n",
      "C:\\Users\\RANA_CSE\\Anaconda3\\lib\\site-packages\\seaborn\\categorical.py:462: FutureWarning: remove_na is deprecated and is a private function. Do not use.\n",
      "  box_data = remove_na(group_data)\n"
     ]
    },
    {
     "data": {
      "image/png": "[encoded data removed]",
      "text/plain": [
       "<matplotlib.figure.Figure at 0xef90266b00>"
      ]
     },
     "metadata": {},
     "output_type": "display_data"
    }
   ],
   "source": [
    "from sklearn.linear_model import LogisticRegression\n",
    "from sklearn.ensemble import RandomForestClassifier\n",
    "from sklearn.svm import LinearSVC\n",
    "from sklearn.model_selection import cross_val_score\n",
    "models = [\n",
    "    RandomForestClassifier(n_estimators=200, max_depth=3, random_state=0),\n",
    "    LinearSVC(),\n",
    "    MultinomialNB(),\n",
    "    LogisticRegression(random_state=0),\n",
    "]\n",
    "CV = 5\n",
    "cv_df = pd.DataFrame(index=range(CV * len(models)))\n",
    "entries = []\n",
    "for model in models:\n",
    "  model_name = model.__class__.__name__\n",
    "  accuracies = cross_val_score(model, features, labels, scoring='accuracy', cv=CV)\n",
    "  for fold_idx, accuracy in enumerate(accuracies):\n",
    "    entries.append((model_name, fold_idx, accuracy))\n",
    "cv_df = pd.DataFrame(entries, columns=['model_name', 'fold_idx', 'accuracy'])\n",
    "import seaborn as sns\n",
    "sns.boxplot(x='model_name', y='accuracy', data=cv_df)\n",
    "sns.stripplot(x='model_name', y='accuracy', data=cv_df, \n",
    "              size=8, jitter=True, edgecolor=\"gray\", linewidth=2)\n",
    "plt.show()"
   ]
  },
  {
   "cell_type": "code",
   "execution_count": 14,
   "metadata": {},
   "outputs": [
    {
     "data": {
      "text/plain": [
       "model_name\n",
       "LinearSVC                 0.733017\n",
       "LogisticRegression        0.639747\n",
       "MultinomialNB             0.585460\n",
       "RandomForestClassifier    0.547517\n",
       "Name: accuracy, dtype: float64"
      ]
     },
     "execution_count": 14,
     "metadata": {},
     "output_type": "execute_result"
    }
   ],
   "source": [
    "cv_df.groupby('model_name').accuracy.mean()"
   ]
  },
  {
   "cell_type": "code",
   "execution_count": 36,
   "metadata": {},
   "outputs": [
    {
     "name": "stdout",
     "output_type": "stream",
     "text": [
      "category/accident/accident/link1.txt\n",
      "['নওগাঁর মহাদেবপুর উপজেলার নওগাঁ-রাজশাহী মহাসড়কে আজ শুক্রবার রাতে বরযাত্রীবাহী একটি বাস ও ট্রাকের সংঘর্ষের ঘটনা ঘটেছে। এতে চার জন নিহত ও অন্তত ২০ জন আহত হয়েছেন। রাত পৌনে নয়টার দিকে উপজেলার নওহাটা মোড়ে এ ঘটনা ঘটে। পুলিশ ও ফায়ার সার্ভিসের কর্মীরা ঘটনাস্থলে উদ্ধার অভিযান শুরু করেছে। রাত সোয়া ১১টায় শেষ খবর পাওয়া পর্যন্ত ওই লাশ চারটি বাসের ভেতর থেকে উদ্ধার করা সম্ভব হয়নি। পুলিশ জানায়, নওগাঁ থেকে বরযাত্রীবাহী বাসটি রাজশাহীর দিকে যাচ্ছিল। এ সময় নওহাটা মোড়ে বিপরীত দিক থেকে আসা একটি ট্রাকের সঙ্গে বাসটির মুখোমুখি সংঘর্ষ হয়। এতে বাসটি রাস্তার পাশের খাদে উল্টে পড়ে গেলে এই হতাহতের ঘটনা ঘটে। মহাদেবপুর থানার উপপরিদর্শক (এসআই) ইকবাল পাশা জানান, বাসের নিচে চারটি লাশ আটকে আছে। তবে তাদের এখনও উদ্ধার করা সম্ভব হয়নি। আহতদের উদ্ধার করে বিভিন্ন হাসপাতালে পাঠানো হয়েছে।', '']\n",
      "category/accident/accident/link2.txt\n",
      "['মংলা বন্দরের শিল্পাঞ্চল এলাকায় নির্মাণাধীন ভবনের ধ্বংসস্তূপে উদ্ধারকাজ সমাপ্ত ঘোষণা করা হয়েছে। আজ শুক্রবার দুপুরে ধ্বংসস্তূপ থেকে আরেকজনের লাশ উদ্ধার করা হয়। এ নিয়ে ভবনধসের ঘটনায় নিহতের সংখ্যা বেড়ে সাতজনে পৌঁছাল। গতকাল বৃহস্পতিবার সেনাকল্যাণ সংস্থার মংলা সিমেন্ট ফ্যাক্টরির নির্মাণাধীন একটি গুদামের ছাদ ধসে যায়। আজ শুক্রবার বেলা একটায় উদ্ধারকাজ সমাপ্ত ঘোষণা করা হয়। মংলা সিমেন্ট কারখানার উপমহাপরিচালক (ডিডিজি) ক্যাপ্টেন সৈয়দ হেলাল হোসেনের ভাষ্য, ধ্বংসস্তূপের মধ্যে আর কেউ নেই। সব মিলে সাতজন নিহত ও ৪৬ জন আহত হয়েছেন। এ কারণে তাঁরা উদ্ধারকাজ সমাপ্ত ঘোষণা করেছেন। সৈয়দ হেলাল বলেন, নিহত ব্যক্তিদের পরিবারকে এক লাখ টাকা করে সহায়তা দেবে সেনাকল্যাণ কর্তৃপক্ষ। আহত ব্যক্তিদের চিকিৎসার ব্যয়ভারও তাঁরা বহন করবেন। মংলা উপজেলার প্রকল্প বাস্তবায়ন কর্মকর্তা নাহিদুজ্জামানের ভাষ্য, সরকারের পক্ষ থেকে নিহতদের পরিবারকে ২০ হাজার টাকা করে দেওয়া হবে। আহত ব্যক্তিদের পাঁচ হাজার টাকা করে দেওয়া হবে। গতকাল ভবনের ছাদ ধসে যাওয়ার পর নৌবাহিনী, কোস্টগার্ড, পুলিশ ও ফায়ার সার্ভিসের কর্মীরা উদ্ধারকাজ শুরু করেন। ধসে পড়া ছাদের নিচে আরও ৩০-৪০ জন শ্রমিক রয়েছেন বলে দাবি করেন আহত শ্রমিক ও স্থানীয় লোকজন। মংলায় আরেকটি লাশ, নিহতের সংখ্যা ৭নিহত ব্যক্তিদের মধ্যে তিনজনের পরিচয় মিলেছে। তাঁরা হলেন রামপাল উপজেলার রাজনগর গ্রামের বাসিন্দা মাহারুফ হাওলাদার, গৌরম্ভা গ্রামের আমির আকন্দ ও খুলনা মহানগরের বাগমারা এলাকার আল আমিন। অন্যদের লাশ ময়নাতদন্তের জন্য বাগেরহাটে পাঠানো হয়েছে। ঘটনা তদন্তে সেনাকল্যাণ সংস্থার পক্ষ থেকে তিন সদস্যের কমিটি গঠন করা হয়েছে। সেনাকল্যাণ সংস্থার মালিকানায় ১৯৯৪ সালে পশুর নদের তীরে প্রতিষ্ঠিত মংলা সিমেন্ট ফ্যাক্টরি এলিফ্যান্ট ব্র্যান্ড নামে সিমেন্ট বাজারজাত শুরু করে। কারখানাটি গুদাম নির্মাণে ১৪২ কোটি টাকায় চীনের সিএনবিএম ইন্টারন্যাশনাল ইঞ্জিনিয়ারিং কোম্পানি লিমিটেডকে কার্যাদেশ দেয়। ২০১৪ সালের ১০ নভেম্বর ভবনটির কাজ শুরু হয়। চলতি বছরের ১০ নভেম্বর ভবনের নির্মাণকাজ শেষ হওয়ার কথা। পরবর্তী সময়ে চীনা কোম্পানির কাছ থেকে বাংলাদেশ আইটিসিএল নামক অপর একটি কোম্পানি এ কাজের সাব-ঠিকাদার হিসেবে কাজ শুরু করে। বাংলাদেশি এই কোম্পানি গতকাল সকালে মোট ১৮০ জন শ্রমিক নিয়ে ১৪ দশমিক ৫ মিটার উচ্চতাবিশিষ্ট এ ভবনের ছাদ ঢালাইয়ের কাজ শুরু করে। এঁদের মধ্যে ৬০ থেকে ৭০ জন শ্রমিক ছাদে ছিলেন এবং অন্যরা ভবনের নিচে কাজ করছিলেন। কয়রার শ্রমিক মিজান ও খুলনার দোলখোলার শ্রমিক দেলোয়ার জানান, গতকাল বেলা একটার দিকে ভবনটির চারতলার নির্মাণকাজ চলার সময় হঠাৎ ছাদটি ধসে পড়ে। তাঁরা দাবি করেন, নির্মাণকাজের ত্রুটির কারণে এ দুর্ঘটনা ঘটেছে। ফায়ার সার্ভিসের খুলনা ও বরিশাল বিভাগীয় উপপরিচালক মিজানুর রহমান জানান, ঘটনার পর তিনজন শ্রমিককে মৃত ও ৩৮ জন শ্রমিককে আহত অবস্থায় উদ্ধার করা হয়। রাত আটটায় ও সর্বশেষ রাত পৌনে ১১টায় ধ্বংসস্তূপ থেকে দুই শ্রমিককে মৃত অবস্থায় উদ্ধার করা হয়। এ ছাড়া খুলনা মেডিকেল কলেজ হাসপাতালে নেওয়ার পথে একজন শ্রমিকের মৃত্যু হয়। মংলা সিমেন্ট কারখানার উপমহাপরিচালক (ডিডিজি) ক্যাপ্টেন সৈয়দ হেলাল হোসেন বলেন, আহত শ্রমিকদের উদ্ধার করে চিকিৎসার জন্য মংলা বন্দর কর্তৃপক্ষের হাসপাতাল, রামপাল ও খুলনা মেডিকেল কলেজ হাসপাতালে ভর্তি করা হয়েছে।', '']\n",
      "category/accident/accident/link3.txt\n",
      "['মংলা বন্দরের শিল্পাঞ্চল এলাকায় নির্মাণাধীন ভবনের ধ্বংসস্তূপ থেকে আরেকজনের লাশ উদ্ধার করা হয়েছে। এ নিয়ে ভবন ধসের ঘটনায় নিহতের সংখ্যা বেড়ে সাতজনে পৌঁছাল। গতকাল বৃহস্পতিবার সেনা কল্যাণ সংস্থার মংলা সিমেন্ট ফ্যাক্টরির নির্মাণাধীন একটি গুদামের ছাদ ধসে যায়। আজ শুক্রবার শেষ খবর পাওয়া পর্যন্ত উদ্ধারকাজ চলছে। দুপুর পৌনে ১২টার দিকে লাশটি উদ্ধার করা হয়। ফায়ার ব্রিগেডের খুলনা বিভাগের উপপরিচালক মিজানুর রহমান ঘটনার সত্যতা নিশ্চিত করেন। গতকাল ছয়জনের লাশ উদ্ধার করা হয়। সব মিলে নিহতের সংখ্যা সাতজনে পৌঁছাল। এ ঘটনায় ৩৮ জন আহত হয়েছে। ঘটনার পর নৌবাহিনী, কোস্টগার্ড, পুলিশ ও ফায়ার সার্ভিসের কর্মীরা উদ্ধার কাজ শুরু করেন। ধসে পড়া ছাদের নিচে আরও ৩০-৪০ জন শ্রমিক রয়েছেন বলে দাবি করেছেন আহত শ্রমিক ও স্থানীয় লোকজন। নিহত ব্যক্তিদের মধ্যে তিনজনের পরিচয় মিলেছে। তাঁরা হলেন রামপাল উপজেলার রাজনগর গ্রামের বাসিন্দা মাহারুফ হাওলাদার, গৌরম্ভা গ্রামের আমির আকন্দ ও খুলনা মহানগরের বাগমারা এলাকার আল আমিন। ঘটনা তদন্তে সেনা কল্যাণ সংস্থার পক্ষ থেকে তিন সদস্যের কমিটি গঠন করা হয়েছে। সেনা কল্যাণ সংস্থার মালিকানায় ১৯৯৪ সালে পশুর নদের তীরে প্রতিষ্ঠিত মংলা সিমেন্ট ফ্যাক্টরি এলিফ্যান্ট ব্র্যান্ড নামে সিমেন্ট বাজারজাত শুরু করে। কারখানাটি গুদাম নির্মাণে ১৪২ কোটি টাকায় চীনের সিএনবিএম ইন্টারন্যাশনাল ইঞ্জিনিয়ারিং কোম্পানি লিমিটেডকে কার্যাদেশ দেয়। ২০১৪ সালের ১০ নভেম্বর ভবনটির কাজ শুরু হয়। চলতি বছরের ১০ নভেম্বর ভবনের নির্মাণকাজ শেষ হওয়ার কথা। পরবর্তী সময়ে চীনা কোম্পানির কাছ থেকে বাংলাদেশ আইটিসিএল নামক অপর একটি কোম্পানি এ কাজের সাব-ঠিকাদার হিসেবে কাজ শুরু করে। বাংলাদেশি এই কোম্পানি গতকাল সকালে মোট ১৮০ জন শ্রমিক নিয়ে ১৪ দশমিক ৫ মিটার উচ্চতাবিশিষ্ট এ ভবনের ছাদ ঢালাইয়ের কাজ শুরু করে। এঁদের মধ্যে ৬০ থেকে ৭০ জন শ্রমিক ছাদে ছিলেন এবং অন্যরা ভবনের নিচে কাজ করছিলেন। কয়রার শ্রমিক মিজান ও খুলনার দোলখোলার শ্রমিক দেলোয়ার জানান, গতকাল বেলা একটার দিকে ভবনটির চারতলার নির্মাণকাজ চলার সময় হঠাৎ ছাদটি ধসে পড়ে। তাঁরা দাবি করেন, নির্মাণকাজের ত্রুটির কারণে এ দুর্ঘটনা ঘটেছে। ফায়ার সার্ভিসের খুলনা ও বরিশাল বিভাগীয় উপপরিচালক মিজানুর রহমান জানান, ঘটনার পর তিনজন শ্রমিককে মৃত ও ৩৮ জন শ্রমিককে আহত অবস্থায় উদ্ধার করা হয়। রাত আটটায় ও সর্বশেষ রাত পৌনে ১১টায় ধ্বংসস্তূপ থেকে দুই শ্রমিককে মৃত অবস্থায় উদ্ধার করা হয়। এ ছাড়া খুলনা মেডিকেল কলেজ হাসপাতালে নেওয়ার পথে একজন শ্রমিকের মৃত্যু হয়। মংলা সিমেন্ট কারখানার উপমহাপরিচালক (ডিডিজি) ক্যাপ্টেন সৈয়দ হেলাল হোসেন বলেন, আহত শ্রমিকদের উদ্ধার করে মংলা বন্দর কর্তৃপক্ষের হাসপাতাল, রামপাল ও খুলনা মেডিকেল কলেজ হাসপাতালে চিকিৎসার জন্য ভর্তি করা হয়েছে।', '']\n",
      "category/accident/accident/link4.txt\n",
      "['ঢাকা-ময়মনসিংহ রেললাইনের গাজীপুরের শ্রীপুর উপজেলার মাইজপাড়া এলাকায় দাঁড়িয়ে থাকা একটি ট্রাকের সঙ্গে ট্রেনের সংঘর্ষের ঘটনা ঘটেছে। এতে ট্রেনের তিন যাত্রী নিহত এবং কমপক্ষে ছয়জন আহত হয়েছেন। গতকাল বৃহস্পতিবার শ্রীপুরের সাতখামাইর রেলওয়ে স্টেশনের পাশে মাইজপাড়া এলাকায় এ ঘটনা ঘটে। নিহত ব্যক্তিরা হলেন ময়মনসিংহের গফরগাঁও উপজেলার নিগুয়ারী গ্রামের কলিম উদ্দিনের ছেলে শিখর আহমেদ (২০), ট্রেনের হকার (আইসক্রিম বিক্রেতা) শহীদনগর গ্রামের মোস্তফা কামাল (৫০) এবং শ্রীপুর উপজেলার গোলাঘাট গ্রামের মোহাম্মদ আলীর ছেলে জাহাঙ্গীর আলম (৪০)। শ্রীপুর মডেল থানার ভারপ্রাপ্ত কর্মকর্তা মহসীন উল কাদির জানান, নিহত ব্যক্তিদের লাশ তাঁর স্বজনদের কাছে হস্তান্তর করা হয়েছে।', '']\n"
     ]
    }
   ],
   "source": [
    "import csv\n",
    "with open('test.csv','a',encoding=\"utf-8\") as newFile:\n",
    "    newFileWriter = csv.writer(newFile)\n",
    "    newFileWriter.writerow(['category','news'])\n",
    "    for i in range(1,5):\n",
    "        data_path = 'category/accident/accident/link'+str(i)+'.txt'\n",
    "        print(data_path)\n",
    "        with open(data_path, 'r', encoding='utf-8') as f:\n",
    "            line = f.read().split('\\n')\n",
    "            print(line)\n",
    "            newFileWriter.writerow(['accident',line])"
   ]
  },
  {
   "cell_type": "code",
   "execution_count": 37,
   "metadata": {},
   "outputs": [
    {
     "data": {
      "text/html": [
       "<div>\n",
       "<style scoped>\n",
       "    .dataframe tbody tr th:only-of-type {\n",
       "        vertical-align: middle;\n",
       "    }\n",
       "\n",
       "    .dataframe tbody tr th {\n",
       "        vertical-align: top;\n",
       "    }\n",
       "\n",
       "    .dataframe thead th {\n",
       "        text-align: right;\n",
       "    }\n",
       "</style>\n",
       "<table border=\"1\" class=\"dataframe\">\n",
       "  <thead>\n",
       "    <tr style=\"text-align: right;\">\n",
       "      <th></th>\n",
       "      <th>category</th>\n",
       "      <th>news</th>\n",
       "    </tr>\n",
       "  </thead>\n",
       "  <tbody>\n",
       "    <tr>\n",
       "      <th>0</th>\n",
       "      <td>accident</td>\n",
       "      <td>['নওগাঁর মহাদেবপুর উপজেলার নওগাঁ-রাজশাহী মহাসড...</td>\n",
       "    </tr>\n",
       "    <tr>\n",
       "      <th>1</th>\n",
       "      <td>accident</td>\n",
       "      <td>['মংলা বন্দরের শিল্পাঞ্চল এলাকায় নির্মাণাধীন ...</td>\n",
       "    </tr>\n",
       "    <tr>\n",
       "      <th>2</th>\n",
       "      <td>accident</td>\n",
       "      <td>['মংলা বন্দরের শিল্পাঞ্চল এলাকায় নির্মাণাধীন ...</td>\n",
       "    </tr>\n",
       "    <tr>\n",
       "      <th>3</th>\n",
       "      <td>accident</td>\n",
       "      <td>['ঢাকা-ময়মনসিংহ রেললাইনের গাজীপুরের শ্রীপুর উ...</td>\n",
       "    </tr>\n",
       "  </tbody>\n",
       "</table>\n",
       "</div>"
      ],
      "text/plain": [
       "   category                                               news\n",
       "0  accident  ['নওগাঁর মহাদেবপুর উপজেলার নওগাঁ-রাজশাহী মহাসড...\n",
       "1  accident  ['মংলা বন্দরের শিল্পাঞ্চল এলাকায় নির্মাণাধীন ...\n",
       "2  accident  ['মংলা বন্দরের শিল্পাঞ্চল এলাকায় নির্মাণাধীন ...\n",
       "3  accident  ['ঢাকা-ময়মনসিংহ রেললাইনের গাজীপুরের শ্রীপুর উ..."
      ]
     },
     "execution_count": 37,
     "metadata": {},
     "output_type": "execute_result"
    }
   ],
   "source": [
    "df = pd.read_csv('test.csv',nrows=1000)\n",
    "df.head()"
   ]
  },
  {
   "cell_type": "code",
   "execution_count": 38,
   "metadata": {},
   "outputs": [
    {
     "name": "stdout",
     "output_type": "stream",
     "text": [
      "category/art/art/link1.txt\n"
     ]
    },
    {
     "name": "stdout",
     "output_type": "stream",
     "text": [
      "['সাহিত্যের সঙ্গে ক্রিকেটের সম্পর্ক হয়তো একটু দূরের। তবে যোগাযোগ একেবারে ক্ষীণ নয়, দেশ-বিদেশের সাহিত্যে ক্রিকেট স্থান পেয়েছে নানাভাবে। বিশ্বকাপ ক্রিকেটের এই প্রহরে বাংলাদেশ দলের ক্রীড়ানৈপুণ্যে যখন ভীষণ উৎফুল্ল সবাই, সেই সময়ে এই লেখায় আছে সাহিত্যের সঙ্গে ক্রিকেটের রাখিবন্ধনের কাহিনি মার্কিন ঔপন্যাসিক বারনার্ড মালামুডের নেচারাল (১৯৮০) নামের উপন্যাসটি বেইসবল খেলার এক নায়ককে নিয়ে। বেইসবল যুক্তরাষ্ট্রের অন্যতম প্রধান খেলা। বইটি পড়ার সময় আমি কানাডায় ছিলাম, তাই টিভির মাধ্যমে খেলাটির সঙ্গে ক্রমেই পরিচিত হয়ে উঠছিলাম। উপন্যাসটির মূল থিম ছিল নায়কের বেইসবল খেলায় বীরোচিত প্রত্যাবর্তন। সব মহৎ সাহিত্য বস্তুত বীরধর্মী। আর সব খেলাও মূলত বীরধর্মী। সে জন্য সাহিত্য আর খেলার মধ্যে আপাতবিরোধ থাকলেও তাদের মধ্যে মিল হলো, তারা দুজনেই বীরত্বপ্রসূত সৃজনীক্ষেত্র। ২০০৯ সালে সাকিব আল হাসানের ওয়েস্ট ইন্ডিজের গ্রেনাডার দ্বিতীয় টেস্টে লড়াকু অপরাজিত ৯৬ রানের একটি বিজয়ী ইনিংস দেখে একটি পত্রিকার কলামে লিখেছিলাম যে তাঁর খেলায় মুক্তিযোদ্ধার বীরত্ব প্রতিভাত ছিল। শেক্সপিয়ারের হ্যামলেট চরিত্রের যে উক্তিটি আমার প্রিয়, যেটি আমি আমার একটি বইয়ে এপিগ্রাফ বা সূচনা-উদ্ধৃতি হিসেবে ব্যবহার করেছিলাম, সেটি হলো জীবনের মহত্ব (গ্রেইটনেস) বড় ইস্যুর ওপর নির্ভর করে তা নয়, ছোটখাটো খড়ের মতো তুচ্ছ ইস্যুতেও বীরত্বজনক ভূমিকা পালন করে মহত্ব অর্জন করা যায়। খেলার কথাই বলি, ২০০৩ সালে মুলতান টেস্টে বাংলাদেশকে একটা বিরাট গৌরব অর্জন থেকে বঞ্চিত করলেন পাকিস্তানের ইনজামাম উল হক, যিনি শেষ পর্যন্ত উইকেটে অপরাজিত ১৩৮ রান করে পরাজয়ের মুখ থেকে পাকিস্তানের জন্য ছিনিয়ে আনেন বিজয়। ক্রিকেটীয় বীরত্বের এটি একটি অনন্য উদাহরণ, তবে ইনজামামের এই ইনিংসটির চেয়েও সেরা ছিল ১৯৯৯ সালে ব্রায়ান লারার বারবাডোজ টেস্টের সেই ১৫৩ রানের অপরাজিত ইনিংসটি, যেটি বাংলাদেশে আমরা রাত জেগে টিভিতে উপভোগ করেছিলাম এবং যে খেলায় তিনি শেষ দুই ঘণ্টা লড়েছিলেন গ্লেন ম্যাকগ্রা, জেসন গিলেস্পির পূর্ণ শক্তির অস্ট্রেলিয়ার বোমারু আক্রমণের বিরুদ্ধে শুধু দুই বোলারকে সঙ্গে করে—প্রথমে এমব্রোস ও পরে কোর্টনি ওয়ালশ, যে ওয়ালশের টেস্ট রেকর্ডে বিশ্বের সবচেয়ে বেশি গোল্লা আছে। তবে ক্রিকেটের সঙ্গে সহজাত যে বীরত্ব লীন হয়ে আছে, তার ঐতিহাসিক ব্যাখ্যায় গেলে দেখা যাবে এর ঔপনিবেশিক উৎস যখন সাহিত্যে স্থান পেয়েছে, তখন এটি ইংরেজদের একটি জাতীয় খেলা থেকে ক্রমান্বয়ে পরিণত হয়েছে উপনিবেশিক দেশগুলোরও প্রধান একটি খেলায়। ইতিহাসটি এ রকম: ১৩০০ সালে যুবরাজ এডওয়ার্ডের (পরবর্তী সময়ে বিখ্যাত রাজা তৃতীয় এডওয়ার্ড) পোশাক খরচ বাবদ একটি তালিকায় পাওয়া যাচ্ছে যে ৬ পাউন্ড ১০০ শিলিং খরচ হয়েছে ‘ক্রিয়েগ’ ও অন্যান্য ক্রীড়ায় অংশ নেওয়ার জন্য। ক্রিকেট লেখক এ আর লিটলউডের মতে, ‘ক্রিয়েগ’ নিশ্চয় ক্রিকেটরই আদি নাম। রানি এলিজাবেথের সময় বালকেরা ‘ক্রেকেট’ খেলছে, এ রকম বর্ণনা আছে। ক্রিকেটের সঙ্গে সূচনাপর্বে রাজকীয় সত্তা জড়িত ছিল। এ জন্যই বলা হয় ‘ক্রিকেট ইজ আ রয়্যাল গেম’। খেলাটি যখন রাজন্যবর্গ থেকে নেমে এসে ক্রমেই সাধারণ স্তরের মধ্যে জনপ্রিয় হয়ে উঠতে লাগল, তখন ইংরেজ শাসকবর্গ খেলাটিকে জাতীয় ক্রীড়ায় পরিণত করলেন এবং এ খেলার মাধ্যমে নিজেদের নিয়ন্ত্রণ বজায় রাখার জন্য বলা হলো, ক্রিকেট ভদ্রলোকের খেলা বা ‘জেন্টলম্যানস গেম’। এই খেলার মধ্যে মিশ্রিত আছে আভিজাত্য, খেলোয়াড়সুলভ মনোভাব, চারিত্র্য ও চারিত্রিক গভীরতা। এতৎসত্ত্বেও তখন থেকে একটি শ্রেণিবিভাজন যে স্বীকার করা হয়নি, তা নয়। ‘জেন্টলম্যান’ বলতে বোঝাত সমাজের উঁচু শ্রেণির ব্যক্তিদের, যাঁদের কাছে ক্রিকেট খেলা ছিল একটি শৌখিন বিনোদন। আর যাঁরা পেশাদার ক্রিকেট খেলতেন, তাঁদের বলা হতো ‘প্লেয়ারস’। বলার কথা হলো, এই প্লেয়ারদের পক্ষাবলম্বন করে শৌখিন ক্রিকেটারদের খোঁচা দিতে ভুলতেন না কবি-সাহিত্যিকেরা। অষ্টাদশ শতাব্দীর ব্যঙ্গাত্মক কবি আলেকজান্ডার পোপ তাঁর কাব্য প্রতিদ্বন্দ্বী লর্ড জন স্যাকভিলকে গুঁতো মেরে বলছেন, ‘দ্য সিনেটর অ্যাট ক্রিকেট আর্জ দ্য বল।’ অন্যদিকে চালর্স ডিকেন্সের প্রথম উপন্যাস দ্য পিকউইক পেপারস (১৮৩৬)-এ আছে অল মাগল্টন ও ডিঙ্গি ডেল—এই দুই ক্রিকেট ক্লাবের মধ্যে অনুষ্ঠিত একটি ক্রিকেট ম্যাচের বর্ণনা, যেখানে মি. জিঙ্গল নামের এক ধারাভাষ্যকার ওই খেলাটিকে কথিত করছেন ‘ক্যাপিট্যাল গেম, স্মার্ট স্পোর্টস, ফাইন এক্সারসাইজ’ হিসেবে। চালর্স ডিকেন্সের কথা যখন বললাম, তখন ঊনবিংশ শতাব্দীর অর্থাৎ ভিক্টোরীয় যুগের কথাই বলা হয়। যে সময়ে ইংল্যান্ড সাম্রাজ্যবাদী শক্তি হিসেবে বিস্তৃত হচ্ছে এবং ভারতবর্ষসহ পৃথিবীর বহু অঞ্চল পরিণত হয়েছে ব্রিটিশ সাম্রাজ্যের উপনিবেশে। ইংরেজি সাহিত্যে তখন সাম্রাজ্যবাদী চেহারা ফুটে ওঠে দুভাবে। ইংরেজ যোদ্ধা কবি সিগফ্রিড সাসুন ১৯২৮ সালে প্রকাশিত মেমোয়ার্স অব আ ফক্স-হান্টিং ম্যান উপন্যাসে ইংল্যান্ডের নয়নাভিরাম গ্রামাঞ্চলের অপস্রিয়মাণ সৌন্দর্যের প্রতি কাতরতা ব্যক্ত করে গ্রামীণ সবুজ জমিতে ক্রিকেট খেলার আয়োজনের উল্লেখ করেছেন। সাসুনের মতো নিরেট কাব্যাক্রান্ত না হলেও উপন্যাসিক জর্জ ম্যাকডোনাল্ড ফ্রেজার ফ্ল্যাশম্যানস লেডি (১৯৭৭) শিরোনামের উপন্যাসে ১৮৪২ সালে ক্রিকেটের মক্কা বলে খ্যাত লর্ডস মাঠে অনুষ্ঠিত একটি খেলার কাল্পনিক বিবরণ দেন; যেখানে খেলেছিলেন সে সময়ের বিখ্যাত ক্রিকেটাররা। কিন্তু ফ্রেজারের লেখায়ও ফুটে ওঠে গ্রামীণ ক্রিকেটের মাহাত্ম্য। আবার ক্রিকেটের প্রবাদপ্রতিম লেখক স্যার নেভিল কার্ডাস ক্রিকেটের সবুজে ঘেরা কাব্যিকতার প্রতি লক্ষ রেখে বললেন, ক্রিকেটের মতো অন্য কোনো খেলা ইংরেজদের এতটা ভাবকাতর করে না। ভাবকাতরতার পরম বৈশিষ্ট্য হলো অতীতাক্রান্ত থাকা। তাই ক্রিকেট সাহিত্যের প্রধান সুর হলো স্মৃতিকাতরতা, যার থাকবে একটি বেদনাসিক্ত গৌরবোজ্জ্বল অতীত। যেমন কার্ডাসের প্রামাণিক লেখাগুলো তাঁদের নিয়ে, যাঁরা কাউন্টি ক্রিকেটে লড়াকু খেলোয়াড় হলেও সবাই যে টেস্ট খেলোয়াড় ছিলেন এমন নয়। বাংলা সাহিত্যে শংকরীপ্রসাদ বসু (রমণীয় ক্রিকেট) কিংবা মতি নন্দী (ননীদা নট আউট) কিংবা বদরুল হুদা চৌধুরীও (তবু ক্রিকেট ভালোবাসি) এ ঘরানার লেখক। তাঁদের রচিত ক্রিকেট সাহিত্যে এই খেলার গৌরবোজ্জ্বল অতীত নিয়ে স্মৃতিকাতরতা লক্ষ করা যায়। অন্যদিকে, ক্রিকেট এত কাব্যমণ্ডিত খেলা হওয়া সত্ত্বেও এবং সাহিত্যে এর অতীতাশ্রয়ী সুষমা থাকলেও ব্রিটিশ সাম্রাজ্যবাদের বিস্তৃতির ইতিহাসে এর কিন্তু রয়েছে একটি আগ্রাসী রাজনৈতিক ভূমিকা। লেখক সেসিল হেডল্যামের মতে, ব্রিটিশ সাম্রাজ্যবাদ বিস্তারে পর্যায়ক্রমে যেসব উপাদান সহায়ক শক্তি হিসেবে কাজ করেছিল, তার তালিকায় প্রথমে শিকারি থেকে শুরু করে ধর্মযাজক, বণিক, সৈনিক, রাজনীতিবিদ ও শেক্সপিয়ারের পরেই হলো ক্রিকেটের অবস্থান। শেক্সপিয়ারের কথা হেডল্যাম বলেননি, বলেছিলেন কার্লাইল, অন্যভাবে, তাঁর ‘দ্য হিরো অ্যাজ পোয়েট’(১৮৪০) প্রবন্ধে। ক্রিকেট ভারতে এল। তবে এখানেও ব্রিটিশ রাজ্যের শ্রেণি বিভাজনটা ব্যবহৃত হলো ঔপনিবেশিক ও উপনিবেশিতদের মধ্যে পার্থক্য নির্ধারণে। ভারত উপমহাদেশে ক্রিকেটের প্রচলন হলে সাহেবেরা শুধু ব্যাটিং করতেন আর ‘নেইটিভ’ অর্থাৎ ভারতীয়রা পেতেন কেবল বল করা আর বল কুড়ানোর কাজ। ঔপনিবেশিকতার মূল তত্ত্ব হলো, ঔপনিবেশিক দেশ উপনিবেশিত দেশগুলোর মানুষের মধ্যে হীনম্মন্যতা তৈরি করে দেয়, যার ফলে প্রতিষ্ঠিত হয় ঔপনিবেশিক জাতিগুলোর শ্রেয়তা। ক্রিকেটকে ইংরেজরা তাদের জাতীয় সত্তার সঙ্গে অঙ্গীভূত করে প্রচার করতে থাকলেও প্রথমে তারা খ্রিষ্টানধর্মের শ্রেয়তাবোধের সঙ্গে ক্রিকেটের শ্রেয়তাবোধ মিশিয়ে উপনিবেশিতদের মন দখলের জন্য একটি গুগলি বল চালায়। রেভারেন্ড জেমস পাইক্রফট নামের এক ধর্মযাজক ১৮৫১ সালে প্রকাশিত দ্য ক্রিকেট ফিল্ড বইয়ে লেখেন, প্রকৃত খ্রিষ্টানধর্ম হচ্ছে শারীরিক ও মানসিকভাবে অত্যন্ত দৃঢ় একটি ধর্ম, যে ধর্মের চারিত্রিক বৈশিষ্ট্য একজন ক্রিকেটারের মধ্যে দেখা যায়। কিন্তু মিশনারিরা ব্যর্থ হলে ক্রিকেটকে যুক্ত করা হয় নৈতিকতার সঙ্গে, অর্থাৎ ক্রিকেট খেলাকে নৈতিকতা বিধানের পন্থা হিসেবে বিবেচনা করার আরেকটি তরিকা প্রবর্তন করে সাম্রাজ্যবাদী শাসকেরা। চালু করা হয় একটি ফ্রেইজ—‘নট ক্রিকেট’, যেটি ব্যবহৃত হয় সাহেবদের শ্রেয়তা নিশ্চিত করা ও নেইটিভদের ইতরতা প্রকাশের জন্য। নেইটিভদের আচরণে আদর্শগত স্থান থেকে কোনো বিচ্যুতি হলে বলা হতো ‘নট ক্রিকেট’—অর্থাৎ আচরণটি বিধিসম্মত হয়নি। ক্রিকেটের সঙ্গে নৈতিকতার অস্তিত্বের প্রশ্নটি জুড়ে দিয়ে সাম্রাজ্যবাদী শক্তি উপনিবেশিতদের মনে এ কথা ঢুকিয়ে দিল যে তাদের আচরণগত ও ব্যবহারিক ত্রুটি সংশোধন করে দেবে ঔপনিবেশিক শাসকেরাই এবং এ জন্য ক্রিকেট হলো অন্যতম একটি উপায়। ক্রিকেটের রাজনীতি বা রাজনীতির ক্রিকেট সম্পর্কে যুগান্তকারী সাহিত্যিক গ্রন্থটি হচ্ছে ত্রিনিদাদের মার্ক্সবাদী লেখক সি এল আর জেমসের বিয়ন্ড আ বাউন্ডারি (১৯৬৩)। তাঁর বইটির আলোচনা করতে গিয়ে ক্রিকেটের ওপর এ পর্যন্ত রচিত সবচেয়ে তাত্ত্বিক গ্রন্থের লেখক অ্যান্টনি বেইটম্যান নিজের ক্রিকেট, লিটারেচার অ্যান্ড কালচার (২০০৯) বইয়ে বললেন যে জেমস নেভিল কার্ডাসদের মতো ইংরেজি ঘরানার ক্রীড়ালেখকদের ক্রিকেটের মাধ্যমে স্বাজাত্যপ্রেম প্রকাশ করার রীতিকৌশলটি গ্রহণ করে নিজেরই ক্যারিবিয়ান স্বাজাত্যবোধের প্রকাশ করলেন। সাম্রাজ্যবাদী ইংল্যান্ডের সঙ্গে ক্রিকেটের একটি দ্বান্দ্বিক সম্পর্ক তৈরি হয়ে গেল এখানেই। যে ক্রিকেট আগে ছিল কেবল ইংরেজদের জাতীয় সত্তার প্রতীক, সেটি এখন হয়ে গেল উত্তর ঔপনিবেশিক স্বাধীন রাষ্ট্রগুলোর দেশপ্রেমের চূড়ান্ত প্রতীক, যা শেক্সপিয়ারের ব্যবহারের ক্ষেত্রেও হয়েছে দেখা যায়। একদা ইংরেজরা শেক্সপিয়ারকে বাইবেলের পাশাপাশি তাদের সংস্কৃতির শ্রেয়তার নিদর্শন হিসেবে প্রচার করেছিল, কিন্তু পরবর্তীকালে শেক্সপিয়ার পাঠ করেই উপনিবেশিতরা গ্রহণ করে উদার মানবতাবোধের শিক্ষা, যেটি তাদের উদ্বুদ্ধ করেছিল ঔপনিবেশিক শাসনের বিরুদ্ধে সংগ্রামে করতে। ইংরেজি ভাষার ক্ষেত্রেও এই দ্বিফলাবিশিষ্ট ছুরির উপমা দেওয়া যায়। ইংরেজি সাম্রাজ্যবাদী ভাষা, কিন্তু ইংরেজি শিক্ষার মাধ্যমে শাসিতরা শাসকের বিরুদ্ধে দাঁড়ানোর প্রশিক্ষণটা নেয়। এখানে সালমান রুশদির মন্তব্য গ্রহণযোগ্য। ১৯৮২ সালে দ্য টাইমস পত্রিকায় প্রকাশিত ‘দ্য এম্পায়ার রাইটস ব্যাক উইথ আ ভেনজিয়েন্স’ শীর্ষক প্রবন্ধে তিনি বললেন, অনুবাদে যা দাঁড়ায় এ রকম: ‘ইংরেজি আর ইংরেজির মধ্যে নেই; এটা অনেক শিকড় থেকে গজে উঠছে, তাই যাদের আগে তারা উপনিবেশ বানিয়েছিল, তারাই ওই ভাষা ব্যবহার করে নিজেদের জন্য বিস্তৃত অঞ্চল করায়ত্ত করছে।’ সেই যে বলেছিলাম সি এল আর জেমসের কথা। সেই জেমসের বক্তব্যের যাথার্থ এখানেও প্রমাণিত যে ভারতের যুবরাজ শ্রী রঞ্জিত সিংজি ও ত্রিনিদাদের স্যার লিয়ারি কনস্টানটাইন একান্তভাবেই ভারতীয় এবং ওয়েস্ট ইন্ডিয়ান। আরেক ওয়েস্ট ইন্ডিয়ান ক্রিকেটারের উক্তিটিও স্মরণযোগ্য। জর্জ হেডলিকে ক্রিকেট জগৎ ‘কালো ব্র্যাডম্যান’ হিসেবে অভিহিত করতে থাকলে তিনি বিরক্ত হয়ে বলেছিলেন, তাঁকেই (ব্র্যাডম্যানকে) সাদা হেডলি বলেন না কেন! এর পাশাপাশি সম্প্রতি প্রকাশিত দুটি চমৎকার উপন্যাসের কথা বলতে হয়, যে উপন্যাস দুটির কাহিনিতে প্রকাশিত ক্রিকেটকে ঘিরে স্বাজাত্যবোধের চরম উদ্বোধন। একটি জোসেফ ওনিলের নেদারল্যান্ড (২০০৮), আরেকটি শেহান করুনাতিলকের চাইনাম্যান, যা পরে আমেরিকায় দ্য লিজেন্ড অব প্রদীপ ম্যাথ্যু (২০১০) নামে প্রকাশিত হয়। তাই তো এখন আর আমাদের বলতে হয় না, বরং ক্রিকেটের ওপর আন্তর্জাতিক ধারাবিবরণকারীরাই বলেন যে বাংলাদেশে ক্রিকেট হলো দেশপ্রেম প্রকাশের বিরাট উপলক্ষ। তাঁরা বলেন, বাংলাদেশের লোকদের ক্রিকেটের প্রতি ভালোবাসা দেশের প্রতি ভালোবাসার সঙ্গে তুল্যমূল্য। দর্শকসারিতে দাঁড়িয়ে নগ্ন শরীরে রয়েল বেঙ্গল টাইগারের ডোরাকাটা রং গায়ে মেখে বাংলাদেশের পতাকা উঁচিয়ে যে যুবকেরা চিৎকার করেন, তাঁরা শুধু বাংলাদেশ ক্রিকেটের কথাই বলেন না, বাংলাদেশ রাষ্ট্রেরও তাঁরা চলমান উজ্জীবিত প্রতীক।', '']\n",
      "category/art/art/link2.txt\n",
      "['আজ ১৩ মার্চ, প্রতিভা বসুর জন্মশতবর্ষ। সরযূবালা সোম ও আশুতোষ সোমের কন্যা ঢাকার রানু সোমই উত্তরকালে বাংলা সাহিত্যের বিশিষ্ট কথাশিল্পী প্রতিভা বসু। তাঁর জন্মগ্রাম তৎকালীন ঢাকা জেলার বিক্রমপুর পরগনার হাঁসাড়া গ্রাম, যা বর্তমান বাংলাদেশের মুন্সিগঞ্জ জেলার শ্রীনগর উপজেলার অন্তর্গত। উল্লেখ্য, দেশবন্ধু চিত্তরঞ্জন দাশের কন্যা অপর্ণারও বিয়ে হয় একই গ্রামের সন্তান ব্যারিস্টার সুধীর রায়ের সঙ্গে। এই দম্পতির সন্তান ছিলেন পশ্চিমবঙ্গের সাবেক মুখ্যমন্ত্রী সিদ্ধার্থশঙ্কর রায়। প্রতিভা বসুর জন্মশতবর্ষে তাঁর জন্মগ্রামে গিয়ে দেখা গেল রাজনীতির কল্যাণে সিদ্ধার্থশঙ্কর রায়ের নাম অনেকে জানলেও গ্রামবাসীর কেউ জানেন না বিখ্যাত লেখিকা প্রতিভা বসুর নাম। তাঁর জন্মভিটাটি এ গ্রামের কোথায়, এটিও অজানা বেশির ভাগের। অবশ্য অনেকেই দেখেছেন সাড়া জাগানো বাংলা চলচ্চিত্র পথে হলো দেরি, আলো আমার আলো, বিবাহিতা স্ত্রী; যদিও একেবারেই জানেন না এসব চলচ্চিত্রের কাহিনিকার তাঁদেরই গ্রামের কৃতী সন্তান প্রতিভা বসু। ২. প্রতিভা বসুর অনন্য আত্মজীবনী জীবনের জলছবি-এর অনেকটা জুড়ে আছে ঢাকার স্মৃতিময় বর্ণনা। বুদ্ধদেব বসুর জন্মশতবর্ষে প্রতিভা-বুদ্ধদেবের কনিষ্ঠা কন্যা দময়ন্তী বসু সিং ‘বাবার কথা’ শীর্ষক স্মৃতিলেখে যথার্থই লিখেছেন, ‘বুদ্ধদেব বসুর জীবনের সঙ্গে অচ্ছেদ্য বন্ধনে যুক্ত ছিল ঢাকা শহর, যেমন ছিল আমার মা ঢাকার বিখ্যাত গায়িকা রানু সোম থেকে কলকাতার বিখ্যাত লেখিকা হয়ে ওঠা প্রতিভা বসুর জীবনও।’ (প্রথম আলো, ২৮ নভেম্বর ২০০৮) কৃষি কর্মকর্তা বাবার চাকরিসূত্রে প্রতিভারা থেকেছেন ঢাকার মণিপুর ফার্ম, আজিমপুর, বনগ্রাম, ওয়ারী, টিকাটুলি প্রভৃতি এলাকায়। ঢাকার ইডেন স্কুলের ছাত্রী থাকাকালে হিজ মাস্টার্স ভয়েসে তাঁর গান রেকর্ড হয়। এর বর্ণনা আছে জীবনের জলছবিতে, যার মধ্য দিয়ে তখনকার সাংগীতিক পরিবেশের একটি চিত্রও ফুটে ওঠে— রেকর্ড করতে তখন আমাকে কলকাতা আসতে হয়নি। কর্মকর্তারা ঢাকাতে গিয়ে মেশিন ফিট করেছিলেন। টিকাটুলিতে সুশংয়ের রাজার একটি বাড়ি ছিল। সেই বাড়িটিতেই যন্ত্র ফিট করা হয়েছিল, সেখানে গিয়েই গান গেয়েছিলাম আমি। তখন মাইক ছিল না, ধুতুরা ফুলের মতো দেখতে মস্তবড় এক চুঙির ভিতর মুখ দিয়ে গান গাইতে হতো। বোধহয় তিনখানা না চারখানা রেকর্ড করা হয়েছিল। তার মধ্যে অতুলপ্রসাদ সেনের ‘বঁধুয়া নিদ নাহি আঁখি পাতে’ গানটি ছিল। এই রেকর্ডটি বেরুবার পরে আমি কিঞ্চিৎ বিখ্যাত হয়ে গেলাম। নানা জায়গায় নানা কারণে গানের ডাক পড়ত আমার। একবার একটা স্বদেশি সভায় গান গেয়ে সরলা দেবীর নজরে পড়ে গেলাম। তিনি তখন বীরাষ্টমী ব্রত উপলক্ষে রবীন্দ্রনাথের ‘মায়ার খেলা’ নাটকটি অভিনয় করবার জন্য গানের মেয়ে খুঁজে বেড়াচ্ছিলেন। ঢাকার সেই কনফারেন্সে তিনি সভানেত্রী হয়ে এসেছিলেন, উদ্বোধন সংগীত, বন্দেমাতরম গাওয়া এসব ক্ষেত্রে আমার একচেটিয়া ছিল। সেই গান শুনেই আমাকে সংগ্রহ করলেন তিনি। তাঁর সঙ্গে কলকাতা এলাম। ঢাকায় তিনি গান শিখেছেন ওস্তাদ চারু দত্ত, মেহেদী হাসান, ভোলানাথ মহারাজ, গুল মোহাম্মদ খাঁ, প্যারীন্দ্র বসাক প্রমুখের কাছে। বাংলা সংগীত ও সাহিত্যজগতের বিশিষ্টজন দিলীপকুমার রায় ঢাকা ভ্রমণে বিখ্যাত বিজ্ঞানী অধ্যাপক সত্যেন্দ্রনাথ বসুর রমনার বাড়িতে গানের জলসা আয়োজন করলে সেখানে শহরের আরও অনেক বিশিষ্টজনের সঙ্গে আমন্ত্রিত ছিলেন পিতাসহ প্রতিভা বসু। হিজ মাস্টার্স ভয়েসে রেকর্ডের সূত্রে রানু সোমের নাম আগেই জানতেন দিলীপকুমার; সেদিনের জলসায় পরিচয়ের পর কিছুকাল ঢাকাবাসে তিনিও রানুর গানের শিক্ষক হন। তাঁর কাছ থেকে রানু শিখেছেন ডি এল রায়, অতুলপ্রসাদ এবং সবচেয়ে বেশি নজরুলের গান। সত্যেন বসুর বাড়িতে দিলীপকুমারের কাছে গান শিখতে গিয়েই একদিন দেখলেন বুদ্ধদেব বসুকে, যিনি তখন ঢাকা বিশ্ববিদ্যালয়ের মেধাবী ছাত্র হিসেবে সুপরিচিত, সবান্ধব থাকেন পুরানা পল্টনে, অজিত দত্তসহ বের করেন সাহিত্যপত্র প্রগতি। যদিও বুদ্ধদেবের সঙ্গে আলাপ তাঁর কলকাতা যাওয়ার মাস দুয়েক আগে; দিলীপকুমার রায় প্রেরিত কয়েকটি পত্রিকা বুদ্ধদেবকে পৌঁছে দেওয়ায় কৃতজ্ঞতা জানাতে তিনি নিজেই এসেছিলেন রানুদের বাসায়। বুদ্ধদেব সম্পর্কে প্রতিভার কৌতূহল অবশ্য আরও আগে থেকেই। তাঁরই ভাষ্যে, ‘একদিন সন্ধ্যাবেলা পুরানো পল্টনের মাঠে বেড়াতে গিয়ে বুদ্ধদেব বসুর আড্ডাখানা এবং বাসস্থান টিনের ঘরটাও দেখে এসেছি, উঁকিঝুঁকিও মেরেছি।’ এ ছাড়া কবিবন্ধু সুফী মোতাহার হোসেনের উৎসাহে বুদ্ধদেবের প্রগতি পত্রিকায় প্রতিভা তাঁর কবিতাও পাঠিয়েছিলেন; যদিও তত দিনে সে পত্রিকা বন্ধ হয়ে গেছে বলে বুদ্ধদেব পত্রান্তরে দুঃখ প্রকাশ করেছিলেন। ৩. বনগ্রামপাড়ায় এক বিষণ্ন বিকেলবেলাকে ঝোড়ো হাওয়ার মতো উড়িয়ে এলেন কাজী নজরুল ইসলাম— দরজা খুলে দেখলাম, বাঙালির তুলনায় একটু বেশিই স্বাস্থ্যবান এবং সুশ্রী এক ব্যক্তি দাঁড়িয়ে আছেন দরজায়, এক মুখ হেসে গায়ের গেরুয়া চাদর সামলাতে সামলাতে আমাকে ঠেলেই প্রায় ঢুকে এলেন ঘরে। আমার মুখের দিকে তাকিয়ে হাসতে হাসতে বললেন, ‘তুমিই নিশ্চয় রানু? বলো ঠিক ধরেছি কি না? তুমিই মন্টুর ছাত্রী তো?’ মন্টু মানে দিলীপদা। দিলীপদার ডাকনাম মন্টু। ... ‘আমি নজরুল ইসলাম।’ খোলা গলায় হাসলেন। নজরুল ইসলামের বয়স তখন বত্রিশ-তেত্রিশ অথবা বেশি। যৌবন তাঁর চোখে-মুখে, সারাক্ষণ হাসি সমস্ত শরীরে নদীর স্রোতের মতো বহমান, বেগবান। সেই বয়সে যাঁরা তাঁকে দেখেছেন শুধু তাঁদেরই বোঝানো যাবে কী দু’কূলপ্লাবী আনন্দধারা দিয়ে গড়া তাঁর চরিত্র। মস্ত বড় বড় কালো টানা চোখ, এলোমেলো ঘন চুলের বাবরি, তীক্ষ্ণ নাসিকা, ঘষা তামার মতো রং, সহজ সরল অদাম্ভিক ব্যবহার, উদ্দাম হাসি, উচ্ছ্বাসপ্রবণতা—সবটা মিলিয়ে একটা ব্যক্তিত্ব বটে। সে যাত্রায় এক মাস ঢাকা অবস্থানকালে প্রায় প্রতিদিনই নজরুল আসতেন রানুদের বাড়ি। আবদুল মান্নান সৈয়দের সঙ্গে নজরুল-বিষয়ক এক সাক্ষাৎকারে প্রতিভা বসু বলেছেন, ‘ওঁর তখনকার সমস্ত গান আমাকে উজাড় করে শিখিয়েছিলেন’ (প্রথম আলো, ১৭ নভেম্বর ২০০৬)। রানুদের বাড়িতে জন্ম হয়েছে নজরুলের বেশ কিছু কালজয়ী গানের। নজরুল প্রসঙ্গে প্রতিভা বসুর লেখায় আরও এসেছে তাঁর বন্ধু কাজী মোতাহার হোসেন, বর্ধমান হাউস আর ঠাটারীবাজার মোড়ে নজরুলের ওপর দুর্বৃত্তদের হামলা প্রসঙ্গ। ৪. প্রতিভা বসুর রচনা থেকে সেকালের ঢাকার যেসব চরিত্রবৈশিষ্ট্য খুঁজে পাওয়া যায়, সেসবের কয়েকটির উল্লেখ আছে তাঁর জবানিতেই—‘ঢাকা সব সময়েই দুটি ব্যাপারে খুব উত্তাল। এক: সংগীত, আর: রাজনীতি’, ‘ঢাকার সবচেয়ে রহস্যময় পুরী মাইলজোড়া দেয়ালঘেরা বলধার জমিদারবাড়ি’, ‘ঢাকার সবচেয়ে ভদ্রপাড়া ওয়ারী’, ‘ঢাকা বিশ্ববিদ্যালয় তখন বিখ্যাত ঐতিহাসিক রমেশচন্দ্র মজুমদার, বৈজ্ঞানিক সত্যেন বসু—এসব রত্ন নিয়ে সমৃদ্ধ ছিল’ ইত্যাদি। তৎকালীন ঢাকার যে কয়েকটি ঐতিহাসিক ঘটনার সবিস্তার উল্লেখে ঋদ্ধিমান প্রতিভা বসুর আত্মকথা তার মধ্যে আছে—লীলা নাগের নেতৃত্বে চট্টগ্রাম অস্ত্রাগার লুণ্ঠনের অন্যতম নায়ক অনন্ত সিংহের ফাঁসি রদ মামলার অর্থসংগ্রহের জন্য ঢাকার নবাববাড়িতে গানের আসর, বলধার জমিদার নরেন্দ্রনারায়ণ চৌধুরীর বাড়িতে বাগানবিলাস, সংগীতচর্চা ও জমিদারের তরুণ তনয়ের নির্মম হত্যাকাণ্ডের বিবরণ। ঢাকা সেকালে কতটা বৃক্ষ ও পুষ্পময়ী ছিল তার উল্লেখের পাশাপাশি লালমোহন সাহার ঠাকুরবাড়িতে ঝুলন উৎসবের রূপছবিময় বর্ণনা এই নগরের সাংস্কৃতিক জীবনের চমৎকার চিত্র ধারণ করে। বিপ্লবমুখর ঢাকার চালচিত্রও খুঁজে পাওয়া যায় জীবনের জলছবিতে। বিনয়-বাদল-দীনেশ বাহিনীর দাঙ্গা-সন্ত্রাসবিরোধী ওয়ারী অভিযানের চাঞ্চল্যকর বর্ণনায় ভাস্বর প্রতিভা বসুর স্মৃতির কলম। পাড়া-মহল্লার মানুষকে সঙ্গে নিয়ে জনা দশেক স্বদেশি বিপ্লবী গেরিলা কায়দায় সাত-আট শ দাঙ্গাবাজ আক্রমণকারী ও ইংরেজ পুলিশ ঠেকানোর রোমহর্ষক যে ইতিবৃত্ত তাঁর লেখায় বর্ণিত হয়েছে, তা যেন গোয়েন্দা কাহিনিকেও হার মানায়। ঢাকার নাট্যচর্চার ইতিহাসেরও চকিত অবলোকন ঘটে তাঁর লেখনীতে। ঢাকা বিশ্ববিদ্যালয়ের জগন্নাথ হলে বুদ্ধদেব বসুর একটি মেয়ের জন্য নাটকের মঞ্চায়নের তথ্য যেমন আমরা পাই, তেমনি বুদ্ধদেবেরই উপন্যাস যেদিন ফুটল কমল অবলম্বনে প্রতিভাদের পারিবারিক উদ্যোগে নাটক মঞ্চায়নের ঐতিহাসিক তথ্যও পাওয়া যায়, যেখানে দীর্ঘদিনের পুরুষশাসিত নাট্যমঞ্চে নারী-পুরুষের মিলিত নাট্য-উদ্যোগ শহরময় যুগপৎ উৎসাহব্যঞ্জক ও নেতিবাচক প্রতিক্রিয়ার সৃষ্টি করে— ...বুদ্ধদেব বসু সানন্দে অনুমতিপত্র দিয়ে আমাদের সাফল্য কামনা করলেন। সারা বাংলায় তো বটেই, সম্ভবত সারা ভারতেই ছেলেমেয়ে মিলে পাবলিকলি এই অভিনয়ের জন্য তিনিও উৎসাহ দিলেন। কৌতূহলে ফেটে পড়ল শহরের লোক, আশাতিরিক্তভাবে সব টিকিট বিক্রি হয়ে গেল। তারপর দুরু দুরু বক্ষে স্ত্রী-পুরুষের মিলে নাটক করার প্রথম সোপানটি অতিক্রম করলাম আমরা। নিন্দার বান ডাকল রানু সোমের নামে। ৫. বুদ্ধদেব বসুর গল্প-উপন্যাস-স্মৃতিকথা পাঠে যেমন ঢাকার রমনা-পল্টনের জন্য দীর্ঘশ্বাস তৈরি হয় পাঠকমনে, তেমনি প্রতিভা বসুর লেখায় পাওয়া যায় সেই আমলের ঢাকা। তাঁর স্মৃতিকথায় ঢাকার অলিগলি-তস্যগলি—মৈশণ্ডীপাড়া, বকশিবাজার, যোগিনগর, ভোলানন্দগিরি আশ্রম, নারী শিক্ষামন্দির, শাহবাগের ধু-ধু প্রান্তর, মুকুল সিনেমা হল, র্যাংকিন স্ট্রিট, নবাবপুরের মাংস-পরোটা, গয়লাপট্টির মাঠা-মাখনের গন্ধ ভেসে আসার সমান্তরালে দেখা মেলে আরও অনেক কিছু। যেমন, বিলেত দেশটা মাটির বইয়ের লেখক জ্যোতির্মালা দেবীর মতো বহু বিস্মৃত মানুষও পাঠকের কাছে নতুন করে ধরা দেন প্রতিভা বসুর লেখার মাধ্যমে। ঢাকাতেই প্রতিভা বসুর সাহিত্যিক সূত্রপাত। এখান থেকেই সাপ্তাহিক নবশক্তিতে গল্প এবং ভারতবর্ষ ও স্বদেশ ইত্যাদি খ্যাতনামা পত্রিকায় কবিতা পাঠিয়েছেন; সেসব লেখাপত্র প্রকাশিত হয়েছে ‘প্রতিভা সোম’ নামে। গ্রামোফোন কোম্পানির রেকর্ডের সূত্রে প্রায়ই কলকাতা যাতায়াত করতেন তিনি। বুদ্ধদেব বসুর সঙ্গে বিবাহসূত্রে ১৯৩৪ থেকে আনুষ্ঠানিক কলকাতা-বাস শুরু প্রতিভা বসুর। কলকাতায় বিয়ের পর অবশ্য বিবাহোত্তর অনুষ্ঠানের জন্য সপরিবারে ঢাকা এসেছিলেন বুদ্ধদেব-প্রতিভা। ১৯৩৯-এ আসামের করিমগঞ্জে বুদ্ধদেব বসুসহ এক সাহিত্য সম্মেলনে যোগ দিতে পূর্ববঙ্গে এসে ঢাকায় পিতৃভূমিতে ওঠেন প্রতিভা আর ১৯৪০-এ ঢাকায় নতুন বেতারকেন্দ্রের উদ্বোধন অনুষ্ঠানে যোগ দিতে এসে যাত্রাপথে বুদ্ধদেব-প্রতিভা দম্পতির সঙ্গে দেখা হয় একই অনুষ্ঠানের অতিথি নজরুলের সঙ্গে। ২০০১-এ এক সাক্ষাৎকারে প্রতিভা বসু তাঁর অন্তিম ইচ্ছা প্রকাশ করেছিলেন এভাবে, ‘আমার জন্মভূমি ঢাকায় মৃত্যুর আগে যদি একবার যেতে পারতাম, ভালো লাগত।’ তাঁর এই ইচ্ছে হয়তো আক্ষরিকভাবে পূরণ হয়নি কিন্তু জীবনের প্রথম ২০ বছরের ঢাকাবাসের আশ্চর্য সব বসন্তরেণু যেভাবে ছড়িয়ে আছে, তাঁর স্মৃতিমাধুরীতে তা কখনো মরচে পড়ার নয়। এসব অনশ্বর স্মৃতিকণাতেই তিনি যেন ফিরে ফিরে আসেন তাঁর প্রিয় ঢাকায়, প্রিয় বাংলাদেশে।', '']\n",
      "category/art/art/link3.txt\n"
     ]
    },
    {
     "name": "stdout",
     "output_type": "stream",
     "text": [
      "['সমকালীন চারুশিল্পের পুরোধা, বাংলাদেশের প্রকাশনাশিল্পের আধুনিক ও মননশীল সুরুচি নির্মাণের পথিকৃৎ শিল্পী কাইয়ুম চৌধুরীর ৮৩তম জন্মদিন ছিল ৯ মার্চ। এবারই প্রথম শিল্পীকে ছাড়া পালিত হলো তাঁর জন্মদিন। এ উপলক্ষে একযোগে ঢাকার ধানমন্ডির বেঙ্গল শিল্পালয় ও গুলশানের বেঙ্গল লাউঞ্জে শিল্পীর দুটি স্মারক প্রদর্শনীর আয়োজন করল বেঙ্গল ফাউন্ডেশন। প্রথমটি ‘কালি ও কলম পত্রিকায় কাইয়ুম চৌধুরীর রেখালেখ্য’ শীর্ষক নির্বাচিত ১২২টি রেখাচিত্র প্রদর্শনী, অন্যটি বেঙ্গল ফাউন্ডেশন সংগ্রহ থেকে নির্বাচিত ২৫টি চিত্রকর্ম প্রদর্শনী। দীর্ঘ ৬০ বছরের নিরন্তর চিত্রসাধনায় কাইয়ুম চৌধুরী হয়ে উঠেছিলেন দেশের শীর্ষ শিল্পীদের একজন। আবহমান বাংলা, প্রকৃতির অপূর্ব সৌন্দর্য ও এই ভূখণ্ডের বাসিন্দাদের তিনি চিত্রপটে তুলে এনেছেন নিজস্ব অঙ্কনশৈলীতে। লোকশিল্পের রং ও রেখাকে সমকালীন আধুনিকতায় বিন্যস্ত করে নিজের একটা চিত্রভাষা নির্মাণ করেছিলেন। একই সঙ্গে বাংলা টাইপোগ্রাফির বৈচিত্র্য ও নান্দনিকতায়ও রেখেছেন অসামান্য অবদান। চিত্রকলা থেকে বই ও পত্রপত্রিকার প্রচ্ছদ এবং অঙ্গসজ্জা—সব ক্ষেত্রে তাঁর স্বকীয় অঙ্কনরীতির প্রকাশ দেখতে দেখতেই তো বেড়ে উঠেছি আমরা। ছাত্রজীবনেই কর্মজীবন শুরু করেছিলেন বইয়ের প্রচ্ছদ ও অঙ্গসজ্জার কাজের মধ্যমে। আর পত্রিকায় কাজের সূত্রপাত ইংরেজি দৈনিক অবজারভার দিয়ে। তারপর একে একে দৈনিক সংবাদ, জনকণ্ঠ ও সর্বশেষ যুক্ত ছিলেন প্রথম আলোর সঙ্গে। প্রথম আলোর মাস্টহেডে আছে তাঁর হাতের ছোঁয়া। এই দৈনিকের ‘শিল্পসাহিত্য’ পাতাসহ বিভিন্ন ক্রোড়পত্র তাঁর অলংকরণ ও নকশায় নন্দিত হয়েছে গত ১৬ বছর। একইভাবে কালি ও কলম-এর ১১ বছরে এই পত্রিকার বহু গল্প-উপন্যাস-কবিতার অক্ষরবিন্যাসসহ সচিত্রকরণ করেছেন কাইয়ুম চৌধুরী। নিজের অঙ্কনরীতি অক্ষুণ্ন² রেখে সচিত্রকরণ যে কত বিচিত্র ও নান্দনিক হতে পারে, দর্শক সেটি উপলব্ধি করতে পারবেন এ প্রদর্শনী দেখে। তাঁর সচিত্রকরণের দুটি বৈশিষ্ট্য প্রণিধানযোগ্য। প্রথমত গল্প-উপন্যাস-রম্যলেখা-ভ্রমণ-প্রবন্ধ—যেটি তিনি সচিত্রকরণ করতেন, আঁকার ক্ষেত্রে জোর দিতেন বিষয়বস্তুর দিকে। হ্যাঁ, পাঠকের পাঠের প্রাক্প্রস্তুতির কাজটি এভাবেই সারতেন শিল্পী। আর এতে করে সহজেই বিষয়ের ভেতরে প্রবেশ করতে পারতেন পাঠকও। আরেকটি বৈশিষ্ট্য হলো, এ কাজে তিনি প্রতীকের আশ্রয় নিয়েছেন, তবে হাঁটেননি বিমূর্তায়নের দিকে। গ্রাফিক চিত্রকর হিসেবে এখানেই অনন্য কাইয়ুম চৌধুরী। কালি ও কলম-এর পাতায় নবীন-প্রবীণ কবির কবিতার ভেতরকার বাণীর মাধুর্যের সঙ্গে কাইয়ুমের চিত্রমালার মিলন পাঠকের জন্য ছিল দারুণ উপভোগ্য। তেমনি গল্প-উপন্যাসের স্বাদু-বর্ণনা ও ঘটনার নাটকীয়তার সচিত্রকরণে লেখাটি উপভোগ্য হয়ে উঠেছে পাঠকের কাছে। সেই কাজগুলোর নির্বাচিত অংশ দেখলে পাঠক-দর্শক সহজেই বুঝতে পারবেন এ ক্ষেত্রে কতটা অনিবার্য ছিলেন কাইয়ুম চৌধুরী। এই প্রদর্শনী চলবে ৪ এপ্রিল পর্যন্ত। অন্যদিকে, বেঙ্গল লাউঞ্জের আরেকটি প্রদর্শনীতে কাইয়ুম চৌধুরীর চিত্রমালায় দেখা যায় তাঁর স্বভাবসুলভ ভঙ্গিমা। ক্যানভাসে ক্যানভাসে তিনি তুলে ধরেছেন বাংলার নদীমেখলা নিসর্গের ছবি এবং বঙ্গললনার সৌন্দর্য। ‘বর্ষায় একাকিনী’ শীর্ষক এক চিত্রে আমরা দেখি, কালো আকাশ ফুঁড়ে নীল বৃষ্টিপাত, বাঁয়ে গৃহসংকেত, ডানে জলসিক্ত এক তরুণীর মধুর অবয়ব। কাইয়ুম চৌধুরীর এই প্রদর্শনী দেখে আবারও মনে হলো পুরোনো কথাটি—সামান্য বিষয়কে অসামান্য কুশলতায় তুলে ধরতে জুড়ি ছিল না কাইয়ুমের। বেঙ্গল লাউঞ্জের প্রদর্শনীটি চলবে ২৮ মার্চ অবধি।', '']\n",
      "category/art/art/link4.txt\n",
      "['লোককলার সম্ভারে পূর্ণ এ দেশ। তাই কি সামিনা নাফিজের শিল্পকর্মে ঘুরেফিরে আসে শোলার পুতুল, নকশা করা কাঁথা, মনসাঘট, মঙ্গলঘট, মুখোশ? ক্যানভাসের পুরোভাগে শখের হাঁড়ির লাল-হলুদ রেখা কখনো উদ্ভাসিত হয়েছে, আবার হারিয়ে যাচ্ছে কখনো বা। সামিনা লোক ঐতিহ্যের অনুসারী। তাঁর কাজের ধারায় যেন উপস্থিত রশীদ চৌধুরীর লোকজ মোটিফ। গুরু জয়নুল আবেদিনের ব্যবহৃত রং রাখার কৌটাটি যখন তাঁর ছবির বিষয় হয়ে যায়, বুঝতে আর বাকি থাকে না, তিনি জয়নুল পরিরারের সদস্য। ‘দেশজ শিল্পের পুর্নবয়ন’ শিরোনামে তাঁর প্রদর্শনীর কাজগুলোকে ভাগ করা যায় তিন ভাগে—বাস্তব, আধা বাস্তব ধরনের জড়জীবনের মধ্যে হুবহু বাস্তবতার পথ তিনি অনুসরণ করেননি। ফলে এসব কাজে প্রকাশ পেয়েছে সরলতা। আবার অন্য কয়েকটি চিত্রে দেখা যায়, বড় স্পেস শূন্য রেখে চিত্রতলের কোনো একদিকে বিষয়ের উপস্থাপনা। কোলাজ ও জলরঙে আঁকা ডায়েরিতে ব্যক্তিগত শোক, হাহাকার ও সংগ্রামের বাণী উৎকীর্ণ করে অন্য দুধরনের কাজের সঙ্গে পার্থক্য দেখিয়েছেন শিল্পী। নতুন করে নির্মাণের তৃষ্ণা প্রকাশ পেয়েছে সামিনার এই কোলাজচিত্রে। তাঁর কাজের বর্ণ ও রূপ প্রধান নয়, আবহমান বাংলার লুপ্ত ঐতিহ্যের রংই যেন বা প্রধান। ক্যানভাসে তেলরং, জলরং, কাগজের সঙ্গে আলোকচিত্রের কোলাজসহ সব মাধ্যমের ছবিতেই আছে লোকশিল্পের কাছ থেকে নেওয়া মৌলিক রঙের প্রাধান্য। নিজের কাজ নিয়ে সামিনার ভাষ্য, ‘আমি আবহমান বাংলার লোক ঐতিহ্যের কাছে থেকে আমার ছবির বিষয় ধার করে নিয়েছি।’ শিল্পীর সৃষ্টিকর্মে লোককলার রঙের যে উজ্জ্বলতা বিদ্যমান, দর্শকের কাছে সেটিকে মনে হতে পারে সরল অতিচেনা রঙের বিন্যাস। তবে এটি তিনি করেন সচেতনভাবেই। না, কোনো বিষয়কে একই রকম আঁকেন না সামিনা। তাঁর শোলার পাখি, কাগজের মণ্ডের তৈরি মুখোশ, মনসার ফণা তোলা অভিব্যক্তি আমাদের যেন মনে করায় ডোরাকাটা সাপের রঙের কথা। শিল্পকলার আঞ্চলিক ও বৈশ্বিক ভাষা এক হলেও অঞ্চলভেদে এর ভাষা ভিন্নার্থক। তবে লোকশিল্পের মধ্যে নিজেকে জারিত করে সামিনা নাফিজের চিত্র বিশ্বকে জানিয়ে দেয়—এই তো আমার বাংলা, এ রং আমার বাংলার রং। এ শিল্পীর ক্যানভাসজুড়ে আলংকারিক রূপ যেমন সৃষ্টি করে বর্ণ ও ফর্মের উদ্ভাসন, এটি দেখে তেমনি মনে পড়ে বাংলার সরল রূপকথার কথাও। ১৩ ফেব্রুয়ারি গ্যালারি টোয়েন্টি ওয়ানে শুরু হওয়া প্রদর্শনীটি শেষ হয়েছে ২৮ ফেব্রুয়ারি।', '']\n"
     ]
    }
   ],
   "source": [
    "import csv\n",
    "with open('test.csv','a',encoding=\"utf-8\") as newFile:\n",
    "    newFileWriter = csv.writer(newFile)\n",
    "    #newFileWriter.writerow(['category','news'])\n",
    "    for i in range(1,5):\n",
    "        data_path = 'category/art/art/link'+str(i)+'.txt'\n",
    "        print(data_path)\n",
    "        with open(data_path, 'r', encoding='utf-8') as f:\n",
    "            line = f.read().split('\\n')\n",
    "            print(line)\n",
    "            newFileWriter.writerow(['art',line])"
   ]
  },
  {
   "cell_type": "code",
   "execution_count": 39,
   "metadata": {},
   "outputs": [
    {
     "data": {
      "text/html": [
       "<div>\n",
       "<style scoped>\n",
       "    .dataframe tbody tr th:only-of-type {\n",
       "        vertical-align: middle;\n",
       "    }\n",
       "\n",
       "    .dataframe tbody tr th {\n",
       "        vertical-align: top;\n",
       "    }\n",
       "\n",
       "    .dataframe thead th {\n",
       "        text-align: right;\n",
       "    }\n",
       "</style>\n",
       "<table border=\"1\" class=\"dataframe\">\n",
       "  <thead>\n",
       "    <tr style=\"text-align: right;\">\n",
       "      <th></th>\n",
       "      <th>category</th>\n",
       "      <th>news</th>\n",
       "    </tr>\n",
       "  </thead>\n",
       "  <tbody>\n",
       "    <tr>\n",
       "      <th>0</th>\n",
       "      <td>accident</td>\n",
       "      <td>['নওগাঁর মহাদেবপুর উপজেলার নওগাঁ-রাজশাহী মহাসড...</td>\n",
       "    </tr>\n",
       "    <tr>\n",
       "      <th>1</th>\n",
       "      <td>accident</td>\n",
       "      <td>['মংলা বন্দরের শিল্পাঞ্চল এলাকায় নির্মাণাধীন ...</td>\n",
       "    </tr>\n",
       "    <tr>\n",
       "      <th>2</th>\n",
       "      <td>accident</td>\n",
       "      <td>['মংলা বন্দরের শিল্পাঞ্চল এলাকায় নির্মাণাধীন ...</td>\n",
       "    </tr>\n",
       "    <tr>\n",
       "      <th>3</th>\n",
       "      <td>accident</td>\n",
       "      <td>['ঢাকা-ময়মনসিংহ রেললাইনের গাজীপুরের শ্রীপুর উ...</td>\n",
       "    </tr>\n",
       "    <tr>\n",
       "      <th>4</th>\n",
       "      <td>art</td>\n",
       "      <td>['সাহিত্যের সঙ্গে ক্রিকেটের সম্পর্ক হয়তো একটু...</td>\n",
       "    </tr>\n",
       "  </tbody>\n",
       "</table>\n",
       "</div>"
      ],
      "text/plain": [
       "   category                                               news\n",
       "0  accident  ['নওগাঁর মহাদেবপুর উপজেলার নওগাঁ-রাজশাহী মহাসড...\n",
       "1  accident  ['মংলা বন্দরের শিল্পাঞ্চল এলাকায় নির্মাণাধীন ...\n",
       "2  accident  ['মংলা বন্দরের শিল্পাঞ্চল এলাকায় নির্মাণাধীন ...\n",
       "3  accident  ['ঢাকা-ময়মনসিংহ রেললাইনের গাজীপুরের শ্রীপুর উ...\n",
       "4       art  ['সাহিত্যের সঙ্গে ক্রিকেটের সম্পর্ক হয়তো একটু..."
      ]
     },
     "execution_count": 39,
     "metadata": {},
     "output_type": "execute_result"
    }
   ],
   "source": [
    "df = pd.read_csv('test.csv',nrows=1000)\n",
    "df.head()"
   ]
  },
  {
   "cell_type": "code",
   "execution_count": 40,
   "metadata": {},
   "outputs": [
    {
     "data": {
      "text/html": [
       "<div>\n",
       "<style scoped>\n",
       "    .dataframe tbody tr th:only-of-type {\n",
       "        vertical-align: middle;\n",
       "    }\n",
       "\n",
       "    .dataframe tbody tr th {\n",
       "        vertical-align: top;\n",
       "    }\n",
       "\n",
       "    .dataframe thead th {\n",
       "        text-align: right;\n",
       "    }\n",
       "</style>\n",
       "<table border=\"1\" class=\"dataframe\">\n",
       "  <thead>\n",
       "    <tr style=\"text-align: right;\">\n",
       "      <th></th>\n",
       "      <th>category</th>\n",
       "      <th>news</th>\n",
       "      <th>category_id</th>\n",
       "    </tr>\n",
       "  </thead>\n",
       "  <tbody>\n",
       "    <tr>\n",
       "      <th>0</th>\n",
       "      <td>accident</td>\n",
       "      <td>['নওগাঁর মহাদেবপুর উপজেলার নওগাঁ-রাজশাহী মহাসড...</td>\n",
       "      <td>0</td>\n",
       "    </tr>\n",
       "    <tr>\n",
       "      <th>1</th>\n",
       "      <td>accident</td>\n",
       "      <td>['মংলা বন্দরের শিল্পাঞ্চল এলাকায় নির্মাণাধীন ...</td>\n",
       "      <td>0</td>\n",
       "    </tr>\n",
       "    <tr>\n",
       "      <th>2</th>\n",
       "      <td>accident</td>\n",
       "      <td>['মংলা বন্দরের শিল্পাঞ্চল এলাকায় নির্মাণাধীন ...</td>\n",
       "      <td>0</td>\n",
       "    </tr>\n",
       "    <tr>\n",
       "      <th>3</th>\n",
       "      <td>accident</td>\n",
       "      <td>['ঢাকা-ময়মনসিংহ রেললাইনের গাজীপুরের শ্রীপুর উ...</td>\n",
       "      <td>0</td>\n",
       "    </tr>\n",
       "    <tr>\n",
       "      <th>4</th>\n",
       "      <td>art</td>\n",
       "      <td>['সাহিত্যের সঙ্গে ক্রিকেটের সম্পর্ক হয়তো একটু...</td>\n",
       "      <td>1</td>\n",
       "    </tr>\n",
       "  </tbody>\n",
       "</table>\n",
       "</div>"
      ],
      "text/plain": [
       "   category                                               news  category_id\n",
       "0  accident  ['নওগাঁর মহাদেবপুর উপজেলার নওগাঁ-রাজশাহী মহাসড...            0\n",
       "1  accident  ['মংলা বন্দরের শিল্পাঞ্চল এলাকায় নির্মাণাধীন ...            0\n",
       "2  accident  ['মংলা বন্দরের শিল্পাঞ্চল এলাকায় নির্মাণাধীন ...            0\n",
       "3  accident  ['ঢাকা-ময়মনসিংহ রেললাইনের গাজীপুরের শ্রীপুর উ...            0\n",
       "4       art  ['সাহিত্যের সঙ্গে ক্রিকেটের সম্পর্ক হয়তো একটু...            1"
      ]
     },
     "execution_count": 40,
     "metadata": {},
     "output_type": "execute_result"
    }
   ],
   "source": [
    "from io import StringIO\n",
    "#'category','news'\n",
    "col = ['category', 'news']\n",
    "df = df[col]\n",
    "df = df[pd.notnull(df['news'])]\n",
    "df.columns = ['category', 'news']\n",
    "df['category_id'] = df['category'].factorize()[0]\n",
    "category_id_df = df[['category', 'category_id']].drop_duplicates().sort_values('category_id')\n",
    "category_to_id = dict(category_id_df.values)\n",
    "id_to_category = dict(category_id_df[['category_id', 'category']].values)\n",
    "df.head()"
   ]
  },
  {
   "cell_type": "code",
   "execution_count": 42,
   "metadata": {},
   "outputs": [
    {
     "data": {
      "text/plain": [
       "<matplotlib.figure.Figure at 0xef886ad8d0>"
      ]
     },
     "metadata": {},
     "output_type": "display_data"
    },
    {
     "data": {
      "image/png": "[encoded data removed]",
      "text/plain": [
       "<matplotlib.figure.Figure at 0xef913b9588>"
      ]
     },
     "metadata": {},
     "output_type": "display_data"
    }
   ],
   "source": [
    "import matplotlib.pyplot as plt\n",
    "fig = plt.figure(figsize=(8,6))\n",
    "df.groupby('category').news.count().plot.bar(ylim=0)\n",
    "plt.show()"
   ]
  },
  {
   "cell_type": "code",
   "execution_count": 43,
   "metadata": {},
   "outputs": [
    {
     "data": {
      "text/plain": [
       "(8, 49)"
      ]
     },
     "execution_count": 43,
     "metadata": {},
     "output_type": "execute_result"
    }
   ],
   "source": [
    "from sklearn.feature_extraction.text import TfidfVectorizer\n",
    "tfidf = TfidfVectorizer(sublinear_tf=True, min_df=5, norm='l2', encoding='utf-8', ngram_range=(1, 2))\n",
    "features = tfidf.fit_transform(df.news).toarray()\n",
    "labels = df.category_id\n",
    "features.shape"
   ]
  },
  {
   "cell_type": "code",
   "execution_count": 44,
   "metadata": {},
   "outputs": [
    {
     "name": "stdout",
     "output_type": "stream",
     "text": [
      "# 'accident':\n",
      "  . Most correlated unigrams:\n",
      ". ঘটন\n",
      ". উপজ\n",
      "  . Most correlated bigrams:\n",
      ". \n",
      "# 'art':\n",
      "  . Most correlated unigrams:\n",
      ". ঘটন\n",
      ". উপজ\n",
      "  . Most correlated bigrams:\n",
      ". \n"
     ]
    }
   ],
   "source": [
    "from sklearn.feature_selection import chi2\n",
    "import numpy as np\n",
    "N = 2\n",
    "for category, category_id in sorted(category_to_id.items()):\n",
    "  features_chi2 = chi2(features, labels == category_id)\n",
    "  indices = np.argsort(features_chi2[0])\n",
    "  feature_names = np.array(tfidf.get_feature_names())[indices]\n",
    "  unigrams = [v for v in feature_names if len(v.split(' ')) == 1]\n",
    "  bigrams = [v for v in feature_names if len(v.split(' ')) == 2]\n",
    "  print(\"# '{}':\".format(category))\n",
    "  print(\"  . Most correlated unigrams:\\n. {}\".format('\\n. '.join(unigrams[-N:])))\n",
    "  print(\"  . Most correlated bigrams:\\n. {}\".format('\\n. '.join(bigrams[-N:])))"
   ]
  },
  {
   "cell_type": "code",
   "execution_count": 45,
   "metadata": {
    "collapsed": true
   },
   "outputs": [],
   "source": [
    "from sklearn.model_selection import train_test_split\n",
    "from sklearn.feature_extraction.text import CountVectorizer\n",
    "from sklearn.feature_extraction.text import TfidfTransformer\n",
    "from sklearn.naive_bayes import MultinomialNB\n",
    "X_train, X_test, y_train, y_test = train_test_split(df['news'], df['category'], random_state = 0)\n",
    "count_vect = CountVectorizer()\n",
    "X_train_counts = count_vect.fit_transform(X_train)\n",
    "tfidf_transformer = TfidfTransformer()\n",
    "X_train_tfidf = tfidf_transformer.fit_transform(X_train_counts)\n",
    "clf = MultinomialNB().fit(X_train_tfidf, y_train)"
   ]
  },
  {
   "cell_type": "code",
   "execution_count": 47,
   "metadata": {},
   "outputs": [
    {
     "name": "stdout",
     "output_type": "stream",
     "text": [
      "['art']\n"
     ]
    }
   ],
   "source": [
    "print(clf.predict(count_vect.transform([\"শিরোনাম দেখে আঁতকে উঠতে পারেন অলীন বাসারের বাবা-মা-বন্ধুরা। ‘শান্তশিষ্ট? বলে কী!’ তাঁদের দাবি, মানুষটা ছোট্ট হলে কী হবে, অলীন দুষ্টুমিতে ওস্তাদ! আমাদের কী দোষ বলো? আমাদের সঙ্গে দেখা করতে এসে অলীন দুষ্টুমি করেনি একটুও। কথাবার্তা, হাঁটাচলায় একদম ‘মুরব্বি’ ভাব! যেন গুরুগম্ভীর এক লেখক! তা এমন ভাব থাকবে না-ই বা কেন? এ বছর বইমেলায় সাঁকোবাড়ি প্রকাশন থেকে সাত বছর বয়সী অলীন বাসারের একটা বই বেরিয়েছে। নাম অন্ধকারে ভূতের ছায়া। খুদে লেখকের ‘ইন্টারভিউ’ নিতেই তাকে আমন্ত্রণ জানানো হয়েছিল প্রথম আলো কার্যালয়ে। কথা বলতে গিয়ে আমরা অবশ্য খানিকটা ভ্যাবাচেকা খেয়ে গেছি! শুধু লেখক তো নয়, অলীন একাধারে গায়ক, আঁকিয়ে, সাংবাদিক এমনকি রীতিমতো একটি পত্রিকার সম্পাদকও! কোন পত্রিকা? অলীনের পত্রিকার নাম শান্তশিষ্ট। সাদা কাগজে লিখে সে নিজেই নিয়মিত পত্রিকা তৈরি করে। আলোকচিত্রীদের এখনো নিয়োগ দেওয়া হয়নি, তাই পত্রিকার ছবিগুলো কষ্ট করে অলীনকেই এঁকে নিতে হয়! তাই বলে এই পত্রিকাকে হেলাফেলা কোরো না যেন! ‘একটি গ্রামে বুনো হাতি’, ‘মমতা ব্যানার্জি এখন ঢাকায়’—এমন সিরিয়াস সব খবরও বিস্তারিত ছাপা হয় অলীন বাসার সম্পাদিত-লিখিত-অলংকৃত পত্রিকায়! শান্তশিষ্ট পত্রিকার ২০১৪ সালের ১২ ডিসেম্বর সংখ্যায় চোখ বুলানোর সুযোগ হলো। পত্রিকার নামের ওপরে লেখা আছে স্লোগান—সবার পছন্দের পত্রিকা। নিচে লেখা, ‘শনিবারের ধামাকা খবর’! দেখলাম জিহাদের নিখোঁজ হওয়ার খবরটাও শান্তশিষ্ট পত্রিকায় গুরুত্ব দিয়ে ‘ছাপা’ (পড়ো ‘লেখা’) হয়েছে। একদম পিচ্চিকাল থেকেই রাতে গল্প না শোনালে ঘুমাতে চাইত না অলীন। বাবা রফিকুল বাশার আর মা নাজনিন আক্তারের কাছে তার আজব আবদার, ‘এমন গল্প বলো যা তুমি কখনো শোনোনি, কখনো পড়োনি। কিন্তু নিজে বানিয়ে বানিয়ে বলবে না!’ তোমাদের বেলায় কী হয় বলো? মাঝে মাঝে রাতের বেলা আব্বু-আম্মু হয়তো স্কুলের পড়াগুলো তোমাদের বুঝিয়ে দেন—তাই তো? অলীনের ক্ষেত্রে উল্টো! প্রায় প্রতি রাতেই স্কুলে কী শেখাল, অলীন সেসব বাবাকে পড়ায়! ইদানীং নাকি বাবা কিছুটা ফাঁকিবাজ হয়ে গেছেন! অফিসের কাজের ছুতোয় একদম পড়তে বসতে চান না! সুকুমার রায় আর ঈশপ অলীনের প্রিয়। তাঁদের গল্প শুনে-পড়েই তার লেখালেখির আগ্রহ হয়েছে। বেশ কয়েকটা গল্প যখন লেখা হয়ে গেছে, বাবাই বই প্রকাশ করার ব্যবস্থা করে দিয়েছেন। বইটিতে পরী পরী মারামারি, বকের পেটে বাঘের বাচ্চা, মুরগি ও গাছ...এমন মজার সব গল্প আছে। ‘গুরুগম্ভীর খুদে লেখক’ আমাদের প্রশ্নগুলোর উত্তর দিল দু-এক শব্দে। ‘বড় হয়ে কী হবে?’ এমন প্রশ্নেও তার ছোট্ট উত্তর, ‘দেখি...’। সেকি! আমরা তো ভেবেছিলাম অলীন লেখক হবে। এখন তো মনে হচ্ছে সে হবে ‘দেখক’। লিখলে যদি লেখক হয়, দেখলে তো ‘দেখক’ই হওয়ার কথা! শুনে মতিঝিল মডেল স্কুলে ক্লাস ওয়ান পড়ুয়া ছেলেটি মিটিমিটি হাসে। অলীন বাসারের বাবা রফিকুল বাসার এক ফাঁকে আমাদের একটা গোপন তথ্য দিলেন। অলীন নাকি একটা ছোটখাটো সিনেমার স্ক্রিপ্টও লিখে ফেলেছে। সিনেমার নাম ধাক্কা থেকে প্রেম! এই তথ্য ফাঁস করে দিতেই খুদে লেখক লজ্জায় লাল! রেগেমেগে সে বলে, ‘বাবা, আজকে বাসায় চলো। তোমার খবর আছে! ইচ্ছাপূরণ প্রজাপতি একদিন এক কানাবগি রাস্তা দিয়ে হেঁটে যাচ্ছিল। এমন সময় এক ইচ্ছাপূরণ প্রজাপতি বুঝতে পারে যে কানাবগির মন খারাপ। ইচ্ছাপূরণ প্রজাপতি কানাবগির কাছে গিয়ে জিজ্ঞাসা করল, ‘তোমার কী হয়েছে? আমাকে বলো। আমি একটি সাধারণ প্রজাপতি নই। আমি একটি ইচ্ছাপূরণ প্রজাপতি।’ কানাবগি বলল, ‘তাই নাকি! হাহাহা। হাহাহা। ইয়ার্কি কোরো না।’ এবার ইচ্ছাপূরণ প্রজাপতি একটু রেগেই বলে, ‘শোনো কানাবগি তখন থেকে মিষ্টি মিষ্টি কথা বলে আসছি তাই তুমি আমার মজা কুড়াচ্ছ। অনেকক্ষণ ধরে কিচ্ছু বললাম না, আমি তোমার ভবিষ্যতের কথা বলছি। সত্যি, তোমার বিপদ আসছে।’ এবার কানাবগি বিশ্বাস করে নিল। বলল, ‘ইচ্ছাপূরণ প্রজাপতি তুমি তো জানো আমার ভবিষ্যতের কথা। তাহলে সত্যি করে বলো তো ভবিষ্যতে আমার ক্ষেত্রে কী ঘটনা ঘটবে এবং কী হবে তা কি জানো?’ ইচ্ছাপূরণ প্রজাপতি বলল, ‘আমি ঠিক জানি না তোমার কী বিপদ হবে। তবে তোমার ভাগ্যে যা লেখা আছে তা তুমি জানো না।’ কানাবগি বলল, ‘মিথ্যাবাদী প্রজাপতি একটা।’ এরপর কানাবগি চলে গেল।  হঠাৎ সে একটা নদী দেখতে পেল। সেই নদীতে ছিল পাঁচ হাজারটা পুঁটি মাছ। তক্ষুনি কানাবগির জিবে জল চলে এল। কিছুক্ষণ পরই সে দেখতে পেল একটা সবুজ ডাল। তবে একটু মোটা তাজা। আর ডালটা এদিকে আসছে। ওটা ধরে তো ভাসা যাবে যাবে! কিছুক্ষণ পর সে বুঝতে পারল, সেটা একটা কুমির। তখন সে ইচ্ছাপূরণ প্রজাপতির কথা ভাবতে লাগলো। বুঝতে পেরে আর সেই নদীতে নামেনি। সে যাত্রা তার জীবন বাঁচলো। দিন জামা পাল্টায় একটা দিন কত না জামা পাল্টায়। বলি সব জামার নাম। ভোর একটা জামা। সকাল একটা জামা। দুপুর একটা জামা। বিকেল একটা জামা। সন্ধ্যা একটা জামা। রাত একটা জামা। সৌরভ তার নাম সৌরভ করে শুধু গৌরব অনেক অনেক ব্যাঙ পেতনিটার ঠ্যাঙ বড় বাঘ কত বড় বাঘ করে শুধু রাগ খায় শুধু বানর শীতে পরে চাদর। ভোর হয়েছে অনেক ভোর খোলো খোলো দোর কতগুলো চোর হয় না তো বোর।\"])))"
   ]
  },
  {
   "cell_type": "code",
   "execution_count": 49,
   "metadata": {},
   "outputs": [
    {
     "name": "stderr",
     "output_type": "stream",
     "text": [
      "C:\\Users\\RANA_CSE\\Anaconda3\\lib\\site-packages\\seaborn\\categorical.py:462: FutureWarning: remove_na is deprecated and is a private function. Do not use.\n",
      "  box_data = remove_na(group_data)\n"
     ]
    },
    {
     "data": {
      "image/png": "[encoded data removed]",
      "text/plain": [
       "<matplotlib.figure.Figure at 0xef844d4ac8>"
      ]
     },
     "metadata": {},
     "output_type": "display_data"
    }
   ],
   "source": [
    "from sklearn.linear_model import LogisticRegression\n",
    "from sklearn.ensemble import RandomForestClassifier\n",
    "from sklearn.svm import LinearSVC\n",
    "from sklearn.model_selection import cross_val_score\n",
    "models = [\n",
    "    RandomForestClassifier(n_estimators=200, max_depth=3, random_state=0),\n",
    "    LinearSVC(),\n",
    "    MultinomialNB(),\n",
    "    LogisticRegression(random_state=0),\n",
    "]\n",
    "#CV=5\n",
    "CV = 2\n",
    "cv_df = pd.DataFrame(index=range(CV * len(models)))\n",
    "entries = []\n",
    "for model in models:\n",
    "  model_name = model.__class__.__name__\n",
    "  accuracies = cross_val_score(model, features, labels, scoring='accuracy', cv=CV)\n",
    "  for fold_idx, accuracy in enumerate(accuracies):\n",
    "    entries.append((model_name, fold_idx, accuracy))\n",
    "cv_df = pd.DataFrame(entries, columns=['model_name', 'fold_idx', 'accuracy'])\n",
    "import seaborn as sns\n",
    "sns.boxplot(x='model_name', y='accuracy', data=cv_df)\n",
    "sns.stripplot(x='model_name', y='accuracy', data=cv_df, \n",
    "              size=8, jitter=True, edgecolor=\"gray\", linewidth=2)\n",
    "plt.show()"
   ]
  },
  {
   "cell_type": "code",
   "execution_count": 50,
   "metadata": {},
   "outputs": [
    {
     "data": {
      "text/plain": [
       "model_name\n",
       "LinearSVC                 1.0\n",
       "LogisticRegression        1.0\n",
       "MultinomialNB             1.0\n",
       "RandomForestClassifier    1.0\n",
       "Name: accuracy, dtype: float64"
      ]
     },
     "execution_count": 50,
     "metadata": {},
     "output_type": "execute_result"
    }
   ],
   "source": [
    "cv_df.groupby('model_name').accuracy.mean()"
   ]
  },
  {
   "cell_type": "code",
   "execution_count": 56,
   "metadata": {},
   "outputs": [
    {
     "name": "stdout",
     "output_type": "stream",
     "text": [
      "{\"6\": [{\"a b\": \"a b\", \"c d\": \"c d\", \"e f\": \"e f\", \"g h\": \"g h\", \"i j\": \"i j\", \"k l\": \"k l\", \"m n\": \"m n\"}]}\n"
     ]
    }
   ],
   "source": [
    "import json\n",
    "both = {}\n",
    "start = '['\n",
    "end = ']'\n",
    "cnt = 0\n",
    "with open('C:/Users/RANA_CSE/data.txt', \"r\") as f:\n",
    "    line = f.readline().strip()\n",
    "    while line:\n",
    "        if start in line or end in line:\n",
    "           line = line.split(start)[1].split(end)[0]\n",
    "           data[\"list\"].append({start[1]:end[0]})\n",
    "           json_dict = {cnt: [both]}\n",
    "           cnt=cnt+1\n",
    "           both[line] = line\n",
    "           line = f.readline().strip()\n",
    "        \n",
    "\n",
    "print(json.dumps(json_dict))"
   ]
  },
  {
   "cell_type": "code",
   "execution_count": null,
   "metadata": {
    "collapsed": true
   },
   "outputs": [],
   "source": []
  }
 ],
 "metadata": {
  "kernelspec": {
   "display_name": "Python 3",
   "language": "python",
   "name": "python3"
  },
  "language_info": {
   "codemirror_mode": {
    "name": "ipython",
    "version": 3
   },
   "file_extension": ".py",
   "mimetype": "text/x-python",
   "name": "python",
   "nbconvert_exporter": "python",
   "pygments_lexer": "ipython3",
   "version": "3.6.3"
  }
 },
 "nbformat": 4,
 "nbformat_minor": 2
}
